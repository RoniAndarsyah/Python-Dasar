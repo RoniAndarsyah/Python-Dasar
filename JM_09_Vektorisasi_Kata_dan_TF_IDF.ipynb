{
  "nbformat": 4,
  "nbformat_minor": 0,
  "metadata": {
    "colab": {
      "name": "JM-09-Vektorisasi Kata dan TF-IDF.ipynb",
      "provenance": [],
      "collapsed_sections": [],
      "include_colab_link": true
    },
    "kernelspec": {
      "name": "python3",
      "display_name": "Python 3"
    },
    "language_info": {
      "name": "python"
    }
  },
  "cells": [
    {
      "cell_type": "markdown",
      "metadata": {
        "id": "view-in-github",
        "colab_type": "text"
      },
      "source": [
        "<a href=\"https://colab.research.google.com/github/riskydav/Belajar-Python/blob/main/JM_09_Vektorisasi_Kata_dan_TF_IDF.ipynb\" target=\"_parent\"><img src=\"https://colab.research.google.com/assets/colab-badge.svg\" alt=\"Open In Colab\"/></a>"
      ]
    },
    {
      "cell_type": "code",
      "metadata": {
        "id": "RP6hW8NDVzaI"
      },
      "source": [
        "# Import Library yang dibutuhkan\n",
        "\n",
        "import nltk\n",
        "from nltk.tokenize import word_tokenize\n",
        "from gensim.models import Word2Vec\n",
        "import re"
      ],
      "execution_count": 1,
      "outputs": []
    },
    {
      "cell_type": "code",
      "metadata": {
        "colab": {
          "base_uri": "https://localhost:8080/"
        },
        "id": "gKe7ZPUfmjYA",
        "outputId": "bb45673a-aef6-492d-b830-6af03daf1d22"
      },
      "source": [
        "nltk.download('punkt')"
      ],
      "execution_count": 2,
      "outputs": [
        {
          "output_type": "stream",
          "name": "stdout",
          "text": [
            "[nltk_data] Downloading package punkt to /root/nltk_data...\n",
            "[nltk_data]   Unzipping tokenizers/punkt.zip.\n"
          ]
        },
        {
          "output_type": "execute_result",
          "data": {
            "text/plain": [
              "True"
            ]
          },
          "metadata": {},
          "execution_count": 2
        }
      ]
    },
    {
      "cell_type": "code",
      "metadata": {
        "id": "rmfhSdxekrEh"
      },
      "source": [
        "komentar = [\n",
        "          \"Pengiriman cepat, kualitas produk baik, penjual ramah\",\n",
        "          \"Produk tidak sesuai gambar, tapi memang sesuai harga\",\n",
        "          \"penjual responsif dan ramah, produk berfungsi dengan baik\",\n",
        "          \"Lumayan untuk harga segini sudah dapat produk bagus\",\n",
        "          \"Tidak sesuai ekspektasi, produk berbeda dengan gambar\",\n",
        "          \"Sejauh ini yaaa lumayan sih, tidak berkespektasi tinggi, sesuai lah sama harga, tengkyuu\",\n",
        "          \"Barang cepat sampai dan sesuai pesanan Packing rapi dan harga recommended\",\n",
        "          \"Barang sdh diterima..packing aman...sampainya cepet...jenis dan jumlahnya sesuai pesenan..makase yah\",\n",
        "          \"seller ramah, tapi di pengirimanya lama\",\n",
        "          \"realpic,barang sesuai pesenan..terimakasih seller,sukses terus..\",\n",
        "          \"Barang bagus aku sering beli produk ini..yamagata okeee..\",\n",
        "          \"seller gak responsif, ga sesuai gambar\",\n",
        "          \"barang ok, kualitas ok\",\n",
        "          \"harga sesuai sama barangnya, not bad lah\",\n",
        "          \"wajar sih ada harga, ada barang\",\n",
        "          \"mantap, kualitas ok sesuai pic\",\n",
        "          \"recommended pokoknya\",\n",
        "          \"kualitas ok, seller ramah, pengiriman cepat\",\n",
        "          \"toko nya gak recommended, seller kurang responsif\",\n",
        "          \"ok barangnya, recommended sellernya\"\n",
        "\n",
        "\n",
        "]"
      ],
      "execution_count": 3,
      "outputs": []
    },
    {
      "cell_type": "code",
      "metadata": {
        "colab": {
          "base_uri": "https://localhost:8080/"
        },
        "id": "QX4OeAmEmsdL",
        "outputId": "8a58f988-073b-4872-e154-5140f1a07cd0"
      },
      "source": [
        "komentar = [re.sub(r'[,.]', '', k) for k in komentar]\n",
        "komentar"
      ],
      "execution_count": 4,
      "outputs": [
        {
          "output_type": "execute_result",
          "data": {
            "text/plain": [
              "['Pengiriman cepat kualitas produk baik penjual ramah',\n",
              " 'Produk tidak sesuai gambar tapi memang sesuai harga',\n",
              " 'penjual responsif dan ramah produk berfungsi dengan baik',\n",
              " 'Lumayan untuk harga segini sudah dapat produk bagus',\n",
              " 'Tidak sesuai ekspektasi produk berbeda dengan gambar',\n",
              " 'Sejauh ini yaaa lumayan sih tidak berkespektasi tinggi sesuai lah sama harga tengkyuu',\n",
              " 'Barang cepat sampai dan sesuai pesanan Packing rapi dan harga recommended',\n",
              " 'Barang sdh diterimapacking amansampainya cepetjenis dan jumlahnya sesuai pesenanmakase yah',\n",
              " 'seller ramah tapi di pengirimanya lama',\n",
              " 'realpicbarang sesuai pesenanterimakasih sellersukses terus',\n",
              " 'Barang bagus aku sering beli produk iniyamagata okeee',\n",
              " 'seller gak responsif ga sesuai gambar',\n",
              " 'barang ok kualitas ok',\n",
              " 'harga sesuai sama barangnya not bad lah',\n",
              " 'wajar sih ada harga ada barang',\n",
              " 'mantap kualitas ok sesuai pic',\n",
              " 'recommended pokoknya',\n",
              " 'kualitas ok seller ramah pengiriman cepat',\n",
              " 'toko nya gak recommended seller kurang responsif',\n",
              " 'ok barangnya recommended sellernya']"
            ]
          },
          "metadata": {},
          "execution_count": 4
        }
      ]
    },
    {
      "cell_type": "code",
      "metadata": {
        "colab": {
          "base_uri": "https://localhost:8080/"
        },
        "id": "KJPae-LBmH3N",
        "outputId": "4f69d693-9659-4e80-d3b9-b4c8607b4a08"
      },
      "source": [
        "corpus = [word_tokenize(k.lower()) for k in komentar]\n",
        "corpus"
      ],
      "execution_count": 5,
      "outputs": [
        {
          "output_type": "execute_result",
          "data": {
            "text/plain": [
              "[['pengiriman', 'cepat', 'kualitas', 'produk', 'baik', 'penjual', 'ramah'],\n",
              " ['produk', 'tidak', 'sesuai', 'gambar', 'tapi', 'memang', 'sesuai', 'harga'],\n",
              " ['penjual',\n",
              "  'responsif',\n",
              "  'dan',\n",
              "  'ramah',\n",
              "  'produk',\n",
              "  'berfungsi',\n",
              "  'dengan',\n",
              "  'baik'],\n",
              " ['lumayan', 'untuk', 'harga', 'segini', 'sudah', 'dapat', 'produk', 'bagus'],\n",
              " ['tidak', 'sesuai', 'ekspektasi', 'produk', 'berbeda', 'dengan', 'gambar'],\n",
              " ['sejauh',\n",
              "  'ini',\n",
              "  'yaaa',\n",
              "  'lumayan',\n",
              "  'sih',\n",
              "  'tidak',\n",
              "  'berkespektasi',\n",
              "  'tinggi',\n",
              "  'sesuai',\n",
              "  'lah',\n",
              "  'sama',\n",
              "  'harga',\n",
              "  'tengkyuu'],\n",
              " ['barang',\n",
              "  'cepat',\n",
              "  'sampai',\n",
              "  'dan',\n",
              "  'sesuai',\n",
              "  'pesanan',\n",
              "  'packing',\n",
              "  'rapi',\n",
              "  'dan',\n",
              "  'harga',\n",
              "  'recommended'],\n",
              " ['barang',\n",
              "  'sdh',\n",
              "  'diterimapacking',\n",
              "  'amansampainya',\n",
              "  'cepetjenis',\n",
              "  'dan',\n",
              "  'jumlahnya',\n",
              "  'sesuai',\n",
              "  'pesenanmakase',\n",
              "  'yah'],\n",
              " ['seller', 'ramah', 'tapi', 'di', 'pengirimanya', 'lama'],\n",
              " ['realpicbarang', 'sesuai', 'pesenanterimakasih', 'sellersukses', 'terus'],\n",
              " ['barang',\n",
              "  'bagus',\n",
              "  'aku',\n",
              "  'sering',\n",
              "  'beli',\n",
              "  'produk',\n",
              "  'iniyamagata',\n",
              "  'okeee'],\n",
              " ['seller', 'gak', 'responsif', 'ga', 'sesuai', 'gambar'],\n",
              " ['barang', 'ok', 'kualitas', 'ok'],\n",
              " ['harga', 'sesuai', 'sama', 'barangnya', 'not', 'bad', 'lah'],\n",
              " ['wajar', 'sih', 'ada', 'harga', 'ada', 'barang'],\n",
              " ['mantap', 'kualitas', 'ok', 'sesuai', 'pic'],\n",
              " ['recommended', 'pokoknya'],\n",
              " ['kualitas', 'ok', 'seller', 'ramah', 'pengiriman', 'cepat'],\n",
              " ['toko', 'nya', 'gak', 'recommended', 'seller', 'kurang', 'responsif'],\n",
              " ['ok', 'barangnya', 'recommended', 'sellernya']]"
            ]
          },
          "metadata": {},
          "execution_count": 5
        }
      ]
    },
    {
      "cell_type": "markdown",
      "metadata": {
        "id": "ilqs6oh8nJyx"
      },
      "source": [
        "## Train Word2Vec Model"
      ]
    },
    {
      "cell_type": "code",
      "metadata": {
        "id": "Zr3eUJ0Tmfmt"
      },
      "source": [
        "model = Word2Vec(corpus, size=100, window=5, workers=2, min_count=1, iter=100)\n"
      ],
      "execution_count": 6,
      "outputs": []
    },
    {
      "cell_type": "markdown",
      "metadata": {
        "id": "W3GOj9NDobAK"
      },
      "source": [
        "## Menyimpan model"
      ]
    },
    {
      "cell_type": "code",
      "metadata": {
        "id": "4me7Ne3gn3OM"
      },
      "source": [
        "model.save(\"komentar_app.w2v\")"
      ],
      "execution_count": 7,
      "outputs": []
    },
    {
      "cell_type": "markdown",
      "metadata": {
        "id": "6_RJ3olWocLH"
      },
      "source": [
        "## Load Model\n",
        "> Menggunakan pretrained model (model yang sudah dibuat sebelumnya)"
      ]
    },
    {
      "cell_type": "code",
      "metadata": {
        "id": "LIRAsG-Jn9Hn"
      },
      "source": [
        "model = Word2Vec.load(\"komentar_app.w2v\")\n"
      ],
      "execution_count": 8,
      "outputs": []
    },
    {
      "cell_type": "markdown",
      "metadata": {
        "id": "X6jijQCcorCg"
      },
      "source": [
        "## Menampilkan Informasi dari Model yang Sudah Dibuat"
      ]
    },
    {
      "cell_type": "code",
      "metadata": {
        "id": "XCc72C54ot_w"
      },
      "source": [
        "# model.wv adalah Word Vector dari Model yang sudah dibuat\n",
        "w2v = model.wv"
      ],
      "execution_count": 9,
      "outputs": []
    },
    {
      "cell_type": "code",
      "metadata": {
        "colab": {
          "base_uri": "https://localhost:8080/"
        },
        "id": "ZKrvWt9Io422",
        "outputId": "2596aceb-86d4-4154-ec70-ed220e9f118e"
      },
      "source": [
        "# Menampilkan semua vocabulary yang sudah di-train\n",
        "w2v.index2word"
      ],
      "execution_count": 10,
      "outputs": [
        {
          "output_type": "execute_result",
          "data": {
            "text/plain": [
              "['sesuai',\n",
              " 'produk',\n",
              " 'harga',\n",
              " 'barang',\n",
              " 'ok',\n",
              " 'kualitas',\n",
              " 'ramah',\n",
              " 'dan',\n",
              " 'recommended',\n",
              " 'seller',\n",
              " 'cepat',\n",
              " 'tidak',\n",
              " 'gambar',\n",
              " 'responsif',\n",
              " 'pengiriman',\n",
              " 'baik',\n",
              " 'penjual',\n",
              " 'tapi',\n",
              " 'dengan',\n",
              " 'lumayan',\n",
              " 'bagus',\n",
              " 'sih',\n",
              " 'lah',\n",
              " 'sama',\n",
              " 'gak',\n",
              " 'barangnya',\n",
              " 'ada',\n",
              " 'memang',\n",
              " 'berfungsi',\n",
              " 'untuk',\n",
              " 'segini',\n",
              " 'sudah',\n",
              " 'dapat',\n",
              " 'ekspektasi',\n",
              " 'berbeda',\n",
              " 'sejauh',\n",
              " 'ini',\n",
              " 'yaaa',\n",
              " 'berkespektasi',\n",
              " 'tinggi',\n",
              " 'tengkyuu',\n",
              " 'sampai',\n",
              " 'pesanan',\n",
              " 'packing',\n",
              " 'rapi',\n",
              " 'sdh',\n",
              " 'diterimapacking',\n",
              " 'amansampainya',\n",
              " 'cepetjenis',\n",
              " 'jumlahnya',\n",
              " 'pesenanmakase',\n",
              " 'yah',\n",
              " 'di',\n",
              " 'pengirimanya',\n",
              " 'lama',\n",
              " 'realpicbarang',\n",
              " 'pesenanterimakasih',\n",
              " 'sellersukses',\n",
              " 'terus',\n",
              " 'aku',\n",
              " 'sering',\n",
              " 'beli',\n",
              " 'iniyamagata',\n",
              " 'okeee',\n",
              " 'ga',\n",
              " 'not',\n",
              " 'bad',\n",
              " 'wajar',\n",
              " 'mantap',\n",
              " 'pic',\n",
              " 'pokoknya',\n",
              " 'toko',\n",
              " 'nya',\n",
              " 'kurang',\n",
              " 'sellernya']"
            ]
          },
          "metadata": {},
          "execution_count": 10
        }
      ]
    },
    {
      "cell_type": "code",
      "metadata": {
        "colab": {
          "base_uri": "https://localhost:8080/"
        },
        "id": "cINrhrKWpDwK",
        "outputId": "0704aa91-08ad-49c5-eb12-01d05e14d0d8"
      },
      "source": [
        "# Menampilkan vector yang sudah dibuat dari dokumen teks\n",
        "w2v.vectors"
      ],
      "execution_count": 11,
      "outputs": [
        {
          "output_type": "execute_result",
          "data": {
            "text/plain": [
              "array([[-8.1601669e-05,  5.3075585e-03,  1.9658168e-03, ...,\n",
              "        -1.0404771e-02, -3.4439252e-03,  4.0808171e-03],\n",
              "       [-1.4668897e-03, -5.8335194e-04, -2.4062772e-03, ...,\n",
              "        -6.5242457e-03, -7.9204571e-03,  3.7080168e-03],\n",
              "       [-7.5960695e-04, -1.2808788e-03, -1.0580672e-03, ...,\n",
              "        -8.9039179e-03, -6.1163432e-03, -2.6954948e-03],\n",
              "       ...,\n",
              "       [-3.9400226e-03, -3.2495428e-03,  2.0606620e-03, ...,\n",
              "        -7.2093545e-03, -2.3729864e-03,  8.2249189e-04],\n",
              "       [-3.8847814e-03,  4.1913090e-04,  4.5590731e-03, ...,\n",
              "        -5.8188708e-03, -2.5071420e-03,  1.6041750e-04],\n",
              "       [-3.1725327e-03, -2.4445585e-03, -2.2126613e-03, ...,\n",
              "        -1.7450777e-03,  8.4345782e-04,  3.3232241e-04]], dtype=float32)"
            ]
          },
          "metadata": {},
          "execution_count": 11
        }
      ]
    },
    {
      "cell_type": "code",
      "metadata": {
        "colab": {
          "base_uri": "https://localhost:8080/"
        },
        "id": "lyQPHKDQpfLi",
        "outputId": "710c45df-f673-4139-da48-dba0000528ec"
      },
      "source": [
        "# Menampilkan ukuran vektor\n",
        "w2v.vector_size"
      ],
      "execution_count": 12,
      "outputs": [
        {
          "output_type": "execute_result",
          "data": {
            "text/plain": [
              "100"
            ]
          },
          "metadata": {},
          "execution_count": 12
        }
      ]
    },
    {
      "cell_type": "code",
      "metadata": {
        "colab": {
          "base_uri": "https://localhost:8080/"
        },
        "id": "u1htiGu_p36V",
        "outputId": "1f67d220-57b5-4e74-e0e5-4c6cc740aa69"
      },
      "source": [
        "# Menampilkan vektor kata yang terdapat pada vocabulary\n",
        "w2v['berbeda']"
      ],
      "execution_count": 13,
      "outputs": [
        {
          "output_type": "execute_result",
          "data": {
            "text/plain": [
              "array([-2.9191526e-03, -3.6790567e-03, -2.0393592e-03, -1.3156466e-03,\n",
              "        1.2194107e-03, -1.2544516e-03, -1.6319716e-03,  3.6370421e-03,\n",
              "        3.6924952e-03, -3.4283295e-03, -3.5945594e-03, -2.7388483e-03,\n",
              "       -3.9443583e-03, -2.0043645e-03, -1.2261056e-03,  4.4860155e-03,\n",
              "       -2.7430903e-03, -6.0612754e-05,  3.5258869e-03,  3.7190435e-03,\n",
              "       -3.9130459e-03, -1.0911211e-03, -1.3362498e-03,  5.4866872e-03,\n",
              "       -3.1979748e-03,  1.3406608e-03, -8.1705162e-04,  3.5813996e-03,\n",
              "       -4.7214571e-03, -1.2903063e-05,  5.5862190e-03,  8.6860910e-06,\n",
              "       -9.6789311e-04,  1.0688445e-03,  6.6984887e-04, -3.7023567e-03,\n",
              "       -3.0270175e-03, -3.6074726e-03,  3.4527215e-03,  5.5907003e-04,\n",
              "       -5.0059813e-03, -5.8713474e-04, -3.2166673e-03,  5.3815641e-03,\n",
              "       -2.9707476e-04, -3.1830242e-03,  5.2934615e-03, -1.1385806e-03,\n",
              "       -4.2997529e-03, -3.8794877e-03, -2.2840558e-03, -6.1250282e-03,\n",
              "        6.3277585e-03, -2.8117951e-03, -2.3695251e-03, -3.7954163e-03,\n",
              "       -3.7131666e-03,  3.6460932e-03,  4.9942513e-03, -1.6095028e-03,\n",
              "       -2.0276417e-03, -3.3610603e-03, -5.5019585e-03, -5.7850936e-03,\n",
              "        3.7027188e-03,  2.8607743e-03,  1.1148244e-03, -2.5767642e-03,\n",
              "       -2.1365562e-03,  5.7833320e-03, -2.8938968e-03,  5.1353485e-03,\n",
              "       -3.4726476e-03, -2.3375629e-03,  2.1804248e-03,  2.6416299e-03,\n",
              "        4.7574789e-04, -4.8027784e-04,  2.7527229e-03,  8.1713410e-04,\n",
              "       -3.6037841e-04, -4.5862161e-03,  4.0471619e-03,  5.0661415e-03,\n",
              "        6.0524913e-03,  3.7713849e-03, -3.4859187e-03,  2.2037874e-03,\n",
              "        2.5131728e-03,  3.2492313e-03, -1.7946606e-03,  2.1137213e-03,\n",
              "        4.7462126e-03, -4.3924730e-03, -8.8303088e-04, -1.3630479e-03,\n",
              "       -4.5917537e-03,  1.1824714e-03, -5.8687828e-03,  1.1080069e-03],\n",
              "      dtype=float32)"
            ]
          },
          "metadata": {},
          "execution_count": 13
        }
      ]
    },
    {
      "cell_type": "markdown",
      "metadata": {
        "id": "TPklgZ0AqX4O"
      },
      "source": [
        "## Sanity Check\n",
        "> Untuk mengetahui apakah model yang sudah kita train sudah memiliki makna atau masih perlu dilakukan training lanjutan"
      ]
    },
    {
      "cell_type": "markdown",
      "metadata": {
        "id": "LYb7IP93qin1"
      },
      "source": [
        "### Similar Word"
      ]
    },
    {
      "cell_type": "code",
      "metadata": {
        "colab": {
          "base_uri": "https://localhost:8080/"
        },
        "id": "-0xUDnlFp-6n",
        "outputId": "c6316cf6-a617-46fd-8d69-ca33309eb507"
      },
      "source": [
        "# Menampilkan kata yang memiliki kemiripan makna dengan kata `produk`\n",
        "# atau dalam kata lain yaitu melihat hubungan semantik dari kata `produk` dengan kata lainnya.\n",
        "w2v.similar_by_word(\"produk\", topn=5)"
      ],
      "execution_count": 14,
      "outputs": [
        {
          "output_type": "execute_result",
          "data": {
            "text/plain": [
              "[('sesuai', 0.571265459060669),\n",
              " ('dan', 0.5622684955596924),\n",
              " ('harga', 0.5306999683380127),\n",
              " ('cepetjenis', 0.5125502347946167),\n",
              " ('barangnya', 0.4784356951713562)]"
            ]
          },
          "metadata": {},
          "execution_count": 14
        }
      ]
    },
    {
      "cell_type": "markdown",
      "metadata": {
        "id": "AZ7e5HNHte2X"
      },
      "source": [
        "---"
      ]
    },
    {
      "cell_type": "markdown",
      "metadata": {
        "id": "4VvPSHL9tawr"
      },
      "source": [
        "## TF-IDF"
      ]
    },
    {
      "cell_type": "code",
      "metadata": {
        "colab": {
          "base_uri": "https://localhost:8080/"
        },
        "id": "AEnPHEPH1uzL",
        "outputId": "6f6ae38d-f0e4-4043-dfd0-a38d2ab24df6"
      },
      "source": [
        "# Menggunakan dataset yang sama seperti pada Word2vec. \n",
        "komentar"
      ],
      "execution_count": 15,
      "outputs": [
        {
          "output_type": "execute_result",
          "data": {
            "text/plain": [
              "['Pengiriman cepat kualitas produk baik penjual ramah',\n",
              " 'Produk tidak sesuai gambar tapi memang sesuai harga',\n",
              " 'penjual responsif dan ramah produk berfungsi dengan baik',\n",
              " 'Lumayan untuk harga segini sudah dapat produk bagus',\n",
              " 'Tidak sesuai ekspektasi produk berbeda dengan gambar',\n",
              " 'Sejauh ini yaaa lumayan sih tidak berkespektasi tinggi sesuai lah sama harga tengkyuu',\n",
              " 'Barang cepat sampai dan sesuai pesanan Packing rapi dan harga recommended',\n",
              " 'Barang sdh diterimapacking amansampainya cepetjenis dan jumlahnya sesuai pesenanmakase yah',\n",
              " 'seller ramah tapi di pengirimanya lama',\n",
              " 'realpicbarang sesuai pesenanterimakasih sellersukses terus',\n",
              " 'Barang bagus aku sering beli produk iniyamagata okeee',\n",
              " 'seller gak responsif ga sesuai gambar',\n",
              " 'barang ok kualitas ok',\n",
              " 'harga sesuai sama barangnya not bad lah',\n",
              " 'wajar sih ada harga ada barang',\n",
              " 'mantap kualitas ok sesuai pic',\n",
              " 'recommended pokoknya',\n",
              " 'kualitas ok seller ramah pengiriman cepat',\n",
              " 'toko nya gak recommended seller kurang responsif',\n",
              " 'ok barangnya recommended sellernya']"
            ]
          },
          "metadata": {},
          "execution_count": 15
        }
      ]
    },
    {
      "cell_type": "code",
      "metadata": {
        "id": "DYJzS0h9shOE"
      },
      "source": [
        "# Import Library yang dibutuhkan\n",
        "from sklearn.feature_extraction.text import TfidfVectorizer\n",
        "import pandas as pd\n",
        "\n",
        "\n",
        "vectorizer = TfidfVectorizer()\n",
        "result = vectorizer.fit_transform(komentar) #tfidf"
      ],
      "execution_count": 16,
      "outputs": []
    },
    {
      "cell_type": "code",
      "metadata": {
        "colab": {
          "base_uri": "https://localhost:8080/"
        },
        "id": "Ev0sewgU15Be",
        "outputId": "a3ce6b2b-8e43-4420-86e2-4122dffbdddf"
      },
      "source": [
        "# Menampilkan nama fitur / token dari dataset\n",
        "print(vectorizer.get_feature_names())"
      ],
      "execution_count": 17,
      "outputs": [
        {
          "output_type": "stream",
          "name": "stdout",
          "text": [
            "['ada', 'aku', 'amansampainya', 'bad', 'bagus', 'baik', 'barang', 'barangnya', 'beli', 'berbeda', 'berfungsi', 'berkespektasi', 'cepat', 'cepetjenis', 'dan', 'dapat', 'dengan', 'di', 'diterimapacking', 'ekspektasi', 'ga', 'gak', 'gambar', 'harga', 'ini', 'iniyamagata', 'jumlahnya', 'kualitas', 'kurang', 'lah', 'lama', 'lumayan', 'mantap', 'memang', 'not', 'nya', 'ok', 'okeee', 'packing', 'pengiriman', 'pengirimanya', 'penjual', 'pesanan', 'pesenanmakase', 'pesenanterimakasih', 'pic', 'pokoknya', 'produk', 'ramah', 'rapi', 'realpicbarang', 'recommended', 'responsif', 'sama', 'sampai', 'sdh', 'segini', 'sejauh', 'seller', 'sellernya', 'sellersukses', 'sering', 'sesuai', 'sih', 'sudah', 'tapi', 'tengkyuu', 'terus', 'tidak', 'tinggi', 'toko', 'untuk', 'wajar', 'yaaa', 'yah']\n"
          ]
        }
      ]
    },
    {
      "cell_type": "code",
      "metadata": {
        "colab": {
          "base_uri": "https://localhost:8080/"
        },
        "id": "zKAohjpG10w5",
        "outputId": "12e8d3c9-9da5-4b7d-b45c-78adfd2008f7"
      },
      "source": [
        "# Menampilkan hasil vektor kata\n",
        "print(result)"
      ],
      "execution_count": 18,
      "outputs": [
        {
          "output_type": "stream",
          "name": "stdout",
          "text": [
            "  (0, 48)\t0.3465815374891616\n",
            "  (0, 41)\t0.41928650039086696\n",
            "  (0, 5)\t0.41928650039086696\n",
            "  (0, 47)\t0.29869200269909457\n",
            "  (0, 27)\t0.3465815374891616\n",
            "  (0, 12)\t0.37834118866023614\n",
            "  (0, 39)\t0.41928650039086696\n",
            "  (1, 23)\t0.28300722075106505\n",
            "  (1, 33)\t0.45194789068240265\n",
            "  (1, 65)\t0.39726911367493173\n",
            "  (1, 22)\t0.35847390399084283\n",
            "  (1, 62)\t0.469816029684285\n",
            "  (1, 68)\t0.35847390399084283\n",
            "  (1, 47)\t0.28300722075106505\n",
            "  (2, 16)\t0.3749390439666552\n",
            "  (2, 10)\t0.42654438571296155\n",
            "  (2, 14)\t0.3383244713036003\n",
            "  (2, 52)\t0.3383244713036003\n",
            "  (2, 48)\t0.3099240023266685\n",
            "  (2, 41)\t0.3749390439666552\n",
            "  (2, 5)\t0.3749390439666552\n",
            "  (2, 47)\t0.26709968918170196\n",
            "  (3, 4)\t0.34938895927010233\n",
            "  (3, 15)\t0.39747767378425\n",
            "  (3, 64)\t0.39747767378425\n",
            "  :\t:\n",
            "  (14, 23)\t0.2434393668525939\n",
            "  (15, 45)\t0.5483233810014905\n",
            "  (15, 32)\t0.5483233810014905\n",
            "  (15, 36)\t0.39840772145019154\n",
            "  (15, 62)\t0.2850009029317661\n",
            "  (15, 27)\t0.39840772145019154\n",
            "  (16, 46)\t0.8089977238779507\n",
            "  (16, 51)\t0.5878117749418559\n",
            "  (17, 36)\t0.3876308990254831\n",
            "  (17, 58)\t0.3876308990254831\n",
            "  (17, 48)\t0.3876308990254831\n",
            "  (17, 27)\t0.3876308990254831\n",
            "  (17, 12)\t0.4231521856622946\n",
            "  (17, 39)\t0.46894708896847387\n",
            "  (18, 28)\t0.42805188921603476\n",
            "  (18, 35)\t0.42805188921603476\n",
            "  (18, 70)\t0.42805188921603476\n",
            "  (18, 21)\t0.3762641626205414\n",
            "  (18, 58)\t0.31101934324508895\n",
            "  (18, 51)\t0.31101934324508895\n",
            "  (18, 52)\t0.33952018584761684\n",
            "  (19, 59)\t0.5945915275476735\n",
            "  (19, 7)\t0.5226550538621318\n",
            "  (19, 36)\t0.43202581522456274\n",
            "  (19, 51)\t0.43202581522456274\n"
          ]
        }
      ]
    },
    {
      "cell_type": "markdown",
      "metadata": {
        "id": "gvtQRTZX8Llu"
      },
      "source": [
        "**(4, 16)\t0.21680124922897376**\n",
        "Artinya:\n",
        "> Terdapat kata dengan index ke-16 pada `vectorizer.get_feature_names()` dalam dokumen ke-5 (index dari nol)\n",
        ">\n",
        "> dengan bobot TF-IDF 0.21680124922897376"
      ]
    },
    {
      "cell_type": "code",
      "metadata": {
        "colab": {
          "base_uri": "https://localhost:8080/"
        },
        "id": "Cx-59-0B8POw",
        "outputId": "4d4dacf2-d8a5-4b1d-f9bd-bf6746c745ab"
      },
      "source": [
        "print(f\"Teks dokumen ke-{4+1}:\\n{komentar[4]}\")\n",
        "print(f\"Fitur Name ke-16: {vectorizer.get_feature_names()[16]}\")"
      ],
      "execution_count": 19,
      "outputs": [
        {
          "output_type": "stream",
          "name": "stdout",
          "text": [
            "Teks dokumen ke-5:\n",
            "Tidak sesuai ekspektasi produk berbeda dengan gambar\n",
            "Fitur Name ke-16: dengan\n"
          ]
        }
      ]
    },
    {
      "cell_type": "markdown",
      "metadata": {
        "id": "QDZxrB4p8STH"
      },
      "source": [
        "> Dapat diketahui bahwa di dalam dokumen ke-1 (index ke-0) terdapat kata produk"
      ]
    },
    {
      "cell_type": "code",
      "metadata": {
        "colab": {
          "base_uri": "https://localhost:8080/"
        },
        "id": "SDBhuCu-2V7Z",
        "outputId": "fc272432-209c-4b8f-b5f6-38be328bdf7c"
      },
      "source": [
        "# Menampilkan hasil TF-IDF dalam bentuk list dua dimensi\n",
        "result.todense()"
      ],
      "execution_count": 20,
      "outputs": [
        {
          "output_type": "execute_result",
          "data": {
            "text/plain": [
              "matrix([[0., 0., 0., ..., 0., 0., 0.],\n",
              "        [0., 0., 0., ..., 0., 0., 0.],\n",
              "        [0., 0., 0., ..., 0., 0., 0.],\n",
              "        ...,\n",
              "        [0., 0., 0., ..., 0., 0., 0.],\n",
              "        [0., 0., 0., ..., 0., 0., 0.],\n",
              "        [0., 0., 0., ..., 0., 0., 0.]])"
            ]
          },
          "metadata": {},
          "execution_count": 20
        }
      ]
    },
    {
      "cell_type": "code",
      "metadata": {
        "colab": {
          "base_uri": "https://localhost:8080/",
          "height": 418
        },
        "id": "9j2RVkIb2ZkT",
        "outputId": "067d5a7b-5f81-4197-965d-fa62b565dd1e"
      },
      "source": [
        "# Membuat dataframe dari list dua dimensi tersebut. \n",
        "# Dilakukan transpose agar nama kolom berubah menjadi nama baris\n",
        "# Nama kolom diubah menjadi urutan dokumen\n",
        "df = pd.DataFrame(result.todense().T,\n",
        "                  index=vectorizer.get_feature_names(),\n",
        "                  columns=[f\"D{i+1}\" for i in range(len(komentar))])\n",
        "df"
      ],
      "execution_count": 21,
      "outputs": [
        {
          "output_type": "execute_result",
          "data": {
            "text/html": [
              "<div>\n",
              "<style scoped>\n",
              "    .dataframe tbody tr th:only-of-type {\n",
              "        vertical-align: middle;\n",
              "    }\n",
              "\n",
              "    .dataframe tbody tr th {\n",
              "        vertical-align: top;\n",
              "    }\n",
              "\n",
              "    .dataframe thead th {\n",
              "        text-align: right;\n",
              "    }\n",
              "</style>\n",
              "<table border=\"1\" class=\"dataframe\">\n",
              "  <thead>\n",
              "    <tr style=\"text-align: right;\">\n",
              "      <th></th>\n",
              "      <th>D1</th>\n",
              "      <th>D2</th>\n",
              "      <th>D3</th>\n",
              "      <th>D4</th>\n",
              "      <th>D5</th>\n",
              "      <th>D6</th>\n",
              "      <th>D7</th>\n",
              "      <th>D8</th>\n",
              "      <th>D9</th>\n",
              "      <th>D10</th>\n",
              "      <th>D11</th>\n",
              "      <th>D12</th>\n",
              "      <th>D13</th>\n",
              "      <th>D14</th>\n",
              "      <th>D15</th>\n",
              "      <th>D16</th>\n",
              "      <th>D17</th>\n",
              "      <th>D18</th>\n",
              "      <th>D19</th>\n",
              "      <th>D20</th>\n",
              "    </tr>\n",
              "  </thead>\n",
              "  <tbody>\n",
              "    <tr>\n",
              "      <th>ada</th>\n",
              "      <td>0.0</td>\n",
              "      <td>0.0</td>\n",
              "      <td>0.0</td>\n",
              "      <td>0.000000</td>\n",
              "      <td>0.0</td>\n",
              "      <td>0.000000</td>\n",
              "      <td>0.0</td>\n",
              "      <td>0.000000</td>\n",
              "      <td>0.0</td>\n",
              "      <td>0.0</td>\n",
              "      <td>0.000000</td>\n",
              "      <td>0.0</td>\n",
              "      <td>0.0</td>\n",
              "      <td>0.000000</td>\n",
              "      <td>0.77752</td>\n",
              "      <td>0.0</td>\n",
              "      <td>0.0</td>\n",
              "      <td>0.0</td>\n",
              "      <td>0.000000</td>\n",
              "      <td>0.0</td>\n",
              "    </tr>\n",
              "    <tr>\n",
              "      <th>aku</th>\n",
              "      <td>0.0</td>\n",
              "      <td>0.0</td>\n",
              "      <td>0.0</td>\n",
              "      <td>0.000000</td>\n",
              "      <td>0.0</td>\n",
              "      <td>0.000000</td>\n",
              "      <td>0.0</td>\n",
              "      <td>0.000000</td>\n",
              "      <td>0.0</td>\n",
              "      <td>0.0</td>\n",
              "      <td>0.388760</td>\n",
              "      <td>0.0</td>\n",
              "      <td>0.0</td>\n",
              "      <td>0.000000</td>\n",
              "      <td>0.00000</td>\n",
              "      <td>0.0</td>\n",
              "      <td>0.0</td>\n",
              "      <td>0.0</td>\n",
              "      <td>0.000000</td>\n",
              "      <td>0.0</td>\n",
              "    </tr>\n",
              "    <tr>\n",
              "      <th>amansampainya</th>\n",
              "      <td>0.0</td>\n",
              "      <td>0.0</td>\n",
              "      <td>0.0</td>\n",
              "      <td>0.000000</td>\n",
              "      <td>0.0</td>\n",
              "      <td>0.000000</td>\n",
              "      <td>0.0</td>\n",
              "      <td>0.346041</td>\n",
              "      <td>0.0</td>\n",
              "      <td>0.0</td>\n",
              "      <td>0.000000</td>\n",
              "      <td>0.0</td>\n",
              "      <td>0.0</td>\n",
              "      <td>0.000000</td>\n",
              "      <td>0.00000</td>\n",
              "      <td>0.0</td>\n",
              "      <td>0.0</td>\n",
              "      <td>0.0</td>\n",
              "      <td>0.000000</td>\n",
              "      <td>0.0</td>\n",
              "    </tr>\n",
              "    <tr>\n",
              "      <th>bad</th>\n",
              "      <td>0.0</td>\n",
              "      <td>0.0</td>\n",
              "      <td>0.0</td>\n",
              "      <td>0.000000</td>\n",
              "      <td>0.0</td>\n",
              "      <td>0.000000</td>\n",
              "      <td>0.0</td>\n",
              "      <td>0.000000</td>\n",
              "      <td>0.0</td>\n",
              "      <td>0.0</td>\n",
              "      <td>0.000000</td>\n",
              "      <td>0.0</td>\n",
              "      <td>0.0</td>\n",
              "      <td>0.448098</td>\n",
              "      <td>0.00000</td>\n",
              "      <td>0.0</td>\n",
              "      <td>0.0</td>\n",
              "      <td>0.0</td>\n",
              "      <td>0.000000</td>\n",
              "      <td>0.0</td>\n",
              "    </tr>\n",
              "    <tr>\n",
              "      <th>bagus</th>\n",
              "      <td>0.0</td>\n",
              "      <td>0.0</td>\n",
              "      <td>0.0</td>\n",
              "      <td>0.349389</td>\n",
              "      <td>0.0</td>\n",
              "      <td>0.000000</td>\n",
              "      <td>0.0</td>\n",
              "      <td>0.000000</td>\n",
              "      <td>0.0</td>\n",
              "      <td>0.0</td>\n",
              "      <td>0.341726</td>\n",
              "      <td>0.0</td>\n",
              "      <td>0.0</td>\n",
              "      <td>0.000000</td>\n",
              "      <td>0.00000</td>\n",
              "      <td>0.0</td>\n",
              "      <td>0.0</td>\n",
              "      <td>0.0</td>\n",
              "      <td>0.000000</td>\n",
              "      <td>0.0</td>\n",
              "    </tr>\n",
              "    <tr>\n",
              "      <th>...</th>\n",
              "      <td>...</td>\n",
              "      <td>...</td>\n",
              "      <td>...</td>\n",
              "      <td>...</td>\n",
              "      <td>...</td>\n",
              "      <td>...</td>\n",
              "      <td>...</td>\n",
              "      <td>...</td>\n",
              "      <td>...</td>\n",
              "      <td>...</td>\n",
              "      <td>...</td>\n",
              "      <td>...</td>\n",
              "      <td>...</td>\n",
              "      <td>...</td>\n",
              "      <td>...</td>\n",
              "      <td>...</td>\n",
              "      <td>...</td>\n",
              "      <td>...</td>\n",
              "      <td>...</td>\n",
              "      <td>...</td>\n",
              "    </tr>\n",
              "    <tr>\n",
              "      <th>toko</th>\n",
              "      <td>0.0</td>\n",
              "      <td>0.0</td>\n",
              "      <td>0.0</td>\n",
              "      <td>0.000000</td>\n",
              "      <td>0.0</td>\n",
              "      <td>0.000000</td>\n",
              "      <td>0.0</td>\n",
              "      <td>0.000000</td>\n",
              "      <td>0.0</td>\n",
              "      <td>0.0</td>\n",
              "      <td>0.000000</td>\n",
              "      <td>0.0</td>\n",
              "      <td>0.0</td>\n",
              "      <td>0.000000</td>\n",
              "      <td>0.00000</td>\n",
              "      <td>0.0</td>\n",
              "      <td>0.0</td>\n",
              "      <td>0.0</td>\n",
              "      <td>0.428052</td>\n",
              "      <td>0.0</td>\n",
              "    </tr>\n",
              "    <tr>\n",
              "      <th>untuk</th>\n",
              "      <td>0.0</td>\n",
              "      <td>0.0</td>\n",
              "      <td>0.0</td>\n",
              "      <td>0.397478</td>\n",
              "      <td>0.0</td>\n",
              "      <td>0.000000</td>\n",
              "      <td>0.0</td>\n",
              "      <td>0.000000</td>\n",
              "      <td>0.0</td>\n",
              "      <td>0.0</td>\n",
              "      <td>0.000000</td>\n",
              "      <td>0.0</td>\n",
              "      <td>0.0</td>\n",
              "      <td>0.000000</td>\n",
              "      <td>0.00000</td>\n",
              "      <td>0.0</td>\n",
              "      <td>0.0</td>\n",
              "      <td>0.0</td>\n",
              "      <td>0.000000</td>\n",
              "      <td>0.0</td>\n",
              "    </tr>\n",
              "    <tr>\n",
              "      <th>wajar</th>\n",
              "      <td>0.0</td>\n",
              "      <td>0.0</td>\n",
              "      <td>0.0</td>\n",
              "      <td>0.000000</td>\n",
              "      <td>0.0</td>\n",
              "      <td>0.000000</td>\n",
              "      <td>0.0</td>\n",
              "      <td>0.000000</td>\n",
              "      <td>0.0</td>\n",
              "      <td>0.0</td>\n",
              "      <td>0.000000</td>\n",
              "      <td>0.0</td>\n",
              "      <td>0.0</td>\n",
              "      <td>0.000000</td>\n",
              "      <td>0.38876</td>\n",
              "      <td>0.0</td>\n",
              "      <td>0.0</td>\n",
              "      <td>0.0</td>\n",
              "      <td>0.000000</td>\n",
              "      <td>0.0</td>\n",
              "    </tr>\n",
              "    <tr>\n",
              "      <th>yaaa</th>\n",
              "      <td>0.0</td>\n",
              "      <td>0.0</td>\n",
              "      <td>0.0</td>\n",
              "      <td>0.000000</td>\n",
              "      <td>0.0</td>\n",
              "      <td>0.310354</td>\n",
              "      <td>0.0</td>\n",
              "      <td>0.000000</td>\n",
              "      <td>0.0</td>\n",
              "      <td>0.0</td>\n",
              "      <td>0.000000</td>\n",
              "      <td>0.0</td>\n",
              "      <td>0.0</td>\n",
              "      <td>0.000000</td>\n",
              "      <td>0.00000</td>\n",
              "      <td>0.0</td>\n",
              "      <td>0.0</td>\n",
              "      <td>0.0</td>\n",
              "      <td>0.000000</td>\n",
              "      <td>0.0</td>\n",
              "    </tr>\n",
              "    <tr>\n",
              "      <th>yah</th>\n",
              "      <td>0.0</td>\n",
              "      <td>0.0</td>\n",
              "      <td>0.0</td>\n",
              "      <td>0.000000</td>\n",
              "      <td>0.0</td>\n",
              "      <td>0.000000</td>\n",
              "      <td>0.0</td>\n",
              "      <td>0.346041</td>\n",
              "      <td>0.0</td>\n",
              "      <td>0.0</td>\n",
              "      <td>0.000000</td>\n",
              "      <td>0.0</td>\n",
              "      <td>0.0</td>\n",
              "      <td>0.000000</td>\n",
              "      <td>0.00000</td>\n",
              "      <td>0.0</td>\n",
              "      <td>0.0</td>\n",
              "      <td>0.0</td>\n",
              "      <td>0.000000</td>\n",
              "      <td>0.0</td>\n",
              "    </tr>\n",
              "  </tbody>\n",
              "</table>\n",
              "<p>75 rows × 20 columns</p>\n",
              "</div>"
            ],
            "text/plain": [
              "                D1   D2   D3        D4   D5  ...  D16  D17  D18       D19  D20\n",
              "ada            0.0  0.0  0.0  0.000000  0.0  ...  0.0  0.0  0.0  0.000000  0.0\n",
              "aku            0.0  0.0  0.0  0.000000  0.0  ...  0.0  0.0  0.0  0.000000  0.0\n",
              "amansampainya  0.0  0.0  0.0  0.000000  0.0  ...  0.0  0.0  0.0  0.000000  0.0\n",
              "bad            0.0  0.0  0.0  0.000000  0.0  ...  0.0  0.0  0.0  0.000000  0.0\n",
              "bagus          0.0  0.0  0.0  0.349389  0.0  ...  0.0  0.0  0.0  0.000000  0.0\n",
              "...            ...  ...  ...       ...  ...  ...  ...  ...  ...       ...  ...\n",
              "toko           0.0  0.0  0.0  0.000000  0.0  ...  0.0  0.0  0.0  0.428052  0.0\n",
              "untuk          0.0  0.0  0.0  0.397478  0.0  ...  0.0  0.0  0.0  0.000000  0.0\n",
              "wajar          0.0  0.0  0.0  0.000000  0.0  ...  0.0  0.0  0.0  0.000000  0.0\n",
              "yaaa           0.0  0.0  0.0  0.000000  0.0  ...  0.0  0.0  0.0  0.000000  0.0\n",
              "yah            0.0  0.0  0.0  0.000000  0.0  ...  0.0  0.0  0.0  0.000000  0.0\n",
              "\n",
              "[75 rows x 20 columns]"
            ]
          },
          "metadata": {},
          "execution_count": 21
        }
      ]
    },
    {
      "cell_type": "markdown",
      "metadata": {
        "id": "1ODlrrrp9H3b"
      },
      "source": [
        "Kata **tidak** memiliki bobot lebih tinggi pada dokumen ke-5 daripada bobot pada dokumen ke-2"
      ]
    },
    {
      "cell_type": "code",
      "metadata": {
        "id": "gYLHzpn-1rMm"
      },
      "source": [
        ""
      ],
      "execution_count": 21,
      "outputs": []
    }
  ]
}
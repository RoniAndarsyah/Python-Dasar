{
  "nbformat": 4,
  "nbformat_minor": 0,
  "metadata": {
    "colab": {
      "name": "Data Structure - If Function.ipynb",
      "provenance": [],
      "collapsed_sections": [],
      "include_colab_link": true
    },
    "kernelspec": {
      "name": "python3",
      "display_name": "Python 3"
    },
    "language_info": {
      "name": "python"
    }
  },
  "cells": [
    {
      "cell_type": "markdown",
      "metadata": {
        "id": "view-in-github",
        "colab_type": "text"
      },
      "source": [
        "<a href=\"https://colab.research.google.com/github/riskydav/Belajar-Python/blob/main/Data_Structure_If_Function.ipynb\" target=\"_parent\"><img src=\"https://colab.research.google.com/assets/colab-badge.svg\" alt=\"Open In Colab\"/></a>"
      ]
    },
    {
      "cell_type": "markdown",
      "metadata": {
        "id": "ZG4yrODOOoWt"
      },
      "source": [
        "# **LIST**\n",
        "\n",
        "---\n",
        "\n"
      ]
    },
    {
      "cell_type": "code",
      "metadata": {
        "id": "SfWGM9igKFjK",
        "colab": {
          "base_uri": "https://localhost:8080/"
        },
        "outputId": "9c344b36-9c84-4c27-e2c2-11d4974b3c20"
      },
      "source": [
        "drink_list = ['milk', 'coffee', \"teh\", \"stmj\"]\n",
        "#tgl = [25, 7, 17, 4]\n",
        "print(type(drink_list), \"\\n\")\n",
        "\n",
        "print(\"Fungsi len\\t ->\", len(drink_list)) #len() method menghitung list\n",
        "print(\"Fungsi sorted\\t ->\", sorted(drink_list)) #sorted() method mengurutkan list\n",
        "print(\"Pilih index\\t ->\", drink_list[1]) #milih index"
      ],
      "execution_count": 1,
      "outputs": [
        {
          "output_type": "stream",
          "name": "stdout",
          "text": [
            "<class 'list'> \n",
            "\n",
            "Fungsi len\t -> 4\n",
            "Fungsi sorted\t -> ['coffee', 'milk', 'stmj', 'teh']\n",
            "Pilih index\t -> coffee\n"
          ]
        }
      ]
    },
    {
      "cell_type": "markdown",
      "metadata": {
        "id": "F1v74fpTOx5_"
      },
      "source": [
        "# **TUPLE**\n",
        "\n",
        "---\n",
        "\n"
      ]
    },
    {
      "cell_type": "code",
      "metadata": {
        "id": "8dtXBj7sNycs",
        "colab": {
          "base_uri": "https://localhost:8080/"
        },
        "outputId": "82341745-d347-43d6-8dba-80474202415c"
      },
      "source": [
        "drink_list = ('milk', 'coffee', \"teh\", \"stmj\")\n",
        "single_tuple = ('susu',) #tuple dengan satu value diakhiri dengan koma\n",
        "list_minuman = 'milk', 'coffee', \"teh\", \"stmj\" #dapat tanpa tanda kurung\n",
        "\n",
        "print(type(drink_list), \"\\n\")\n",
        "\n",
        "print(drink_list)\n",
        "#drink_list[0] = \"Test\"\n",
        "print(drink_list)"
      ],
      "execution_count": 2,
      "outputs": [
        {
          "output_type": "stream",
          "name": "stdout",
          "text": [
            "<class 'tuple'> \n",
            "\n",
            "('milk', 'coffee', 'teh', 'stmj')\n",
            "('milk', 'coffee', 'teh', 'stmj')\n"
          ]
        }
      ]
    },
    {
      "cell_type": "markdown",
      "metadata": {
        "id": "Uz10MaQxPlJp"
      },
      "source": [
        "# **DICTIONARY**\n",
        "\n",
        "---\n",
        "\n"
      ]
    },
    {
      "cell_type": "code",
      "metadata": {
        "id": "9DePzPYjPpAL",
        "colab": {
          "base_uri": "https://localhost:8080/"
        },
        "outputId": "da0334dd-9436-4eaf-c1ba-bdc7dad7d972"
      },
      "source": [
        "student = {\n",
        "    'name': 'Risky David Kasyanto',\n",
        "    'age': 21,\n",
        "    'awesome': True,\n",
        "    'language': ['JS', 'Python', 'C'],\n",
        "    'favorites': {\n",
        "        'food': 'Fried Chicken',\n",
        "        'sport': 'Swimming'\n",
        "    }\n",
        "}\n",
        "#print(sorted(student.items())) #-> fungsi mengurutkan key dict\n",
        "print(type(student), \"\\n\")\n",
        "\n",
        "name = student.get('name')\n",
        "print(name)\n",
        "\n",
        "hobby = student.get('favorites')['sport']\n",
        "print(hobby)\n",
        "\n",
        "address = student.get('address')\n",
        "print(address)\n",
        "\n",
        "#dengan menggunakan .get dan key tidak ditemukan akan mengembalikan \"none\"\n",
        "#jika menggunakan fungsi di bawah maka akan error\n",
        "\n",
        "#address = student['address'] \n",
        "#print(address)"
      ],
      "execution_count": 3,
      "outputs": [
        {
          "output_type": "stream",
          "name": "stdout",
          "text": [
            "<class 'dict'> \n",
            "\n",
            "Risky David Kasyanto\n",
            "Swimming\n",
            "None\n"
          ]
        }
      ]
    },
    {
      "cell_type": "markdown",
      "metadata": {
        "id": "LExoxbHRQqpv"
      },
      "source": [
        "# **SET**\n",
        "\n",
        "---\n",
        "\n"
      ]
    },
    {
      "cell_type": "code",
      "metadata": {
        "id": "4ZJvtPoqQtE-",
        "colab": {
          "base_uri": "https://localhost:8080/"
        },
        "outputId": "f344f8c0-c5f8-4cb3-e174-ef6d2631745e"
      },
      "source": [
        "my_set = {1, 2, 3, 4}\n",
        "my_set_2 = {3, 4, 5, 6}\n",
        "\n",
        "print(type(my_set), ' - ', type(my_set_2), \"\\n\")\n",
        "\n",
        "print(my_set.union(my_set_2), '----------', my_set | my_set_2)\n",
        "print(my_set.intersection(my_set_2), '----------', my_set & my_set_2)\n",
        "print(my_set.difference(my_set_2), '----------', my_set - my_set_2)\n",
        "print(my_set.symmetric_difference(my_set_2), '----------', my_set ^ my_set_2)\n",
        "my_set.clear()\n",
        "print(my_set)"
      ],
      "execution_count": 4,
      "outputs": [
        {
          "output_type": "stream",
          "name": "stdout",
          "text": [
            "<class 'set'>  -  <class 'set'> \n",
            "\n",
            "{1, 2, 3, 4, 5, 6} ---------- {1, 2, 3, 4, 5, 6}\n",
            "{3, 4} ---------- {3, 4}\n",
            "{1, 2} ---------- {1, 2}\n",
            "{1, 2, 5, 6} ---------- {1, 2, 5, 6}\n",
            "set()\n"
          ]
        }
      ]
    },
    {
      "cell_type": "markdown",
      "metadata": {
        "id": "yxWX0FPtkPrA"
      },
      "source": [
        "Konversi Tuple ke Set"
      ]
    },
    {
      "cell_type": "code",
      "metadata": {
        "colab": {
          "base_uri": "https://localhost:8080/"
        },
        "id": "S4PUzGoakAqG",
        "outputId": "3a556469-b0a6-4967-9106-13e9d1d0675f"
      },
      "source": [
        "print(type(single_tuple))\n",
        "\n",
        "set_single_tuple = set(single_tuple)\n",
        "print(type(set_single_tuple))"
      ],
      "execution_count": 5,
      "outputs": [
        {
          "output_type": "stream",
          "name": "stdout",
          "text": [
            "<class 'tuple'>\n",
            "<class 'set'>\n"
          ]
        }
      ]
    },
    {
      "cell_type": "markdown",
      "metadata": {
        "id": "B9XE1kCRXWHu"
      },
      "source": [
        "# **Pengondisian**\n",
        "\n",
        "---\n",
        "Bentuk umum if, elif, dan else\n",
        "\n",
        "```\n",
        "if(Condition1):\n",
        "      Indented statement block for Condition1\n",
        "elif(Condition2):\n",
        "       Indented statement block for Condition2\n",
        "else:\n",
        "       Alternate statement block if all condition check above fails\n",
        "```\n",
        "\n"
      ]
    },
    {
      "cell_type": "markdown",
      "metadata": {
        "id": "bPt3UNS7aQP6"
      },
      "source": [
        "Algoritma tahun kabisat: \n",
        "\n",
        "1.   Jika angka tahun itu habis dibagi 400, maka tahun itu sudah pasti tahun kabisat.\n",
        "2.   Jika angka tahun itu tidak habis dibagi 400 tetapi habis dibagi 100, maka tahun itu sudah pasti bukan merupakan tahun kabisat.\n",
        "3.   Jika angka tahun itu tidak habis dibagi 400, tidak habis dibagi 100 akan tetapi habis dibagi 4, maka tahun itu merupakan tahun kabisat.\n",
        "4.   Jika angka tahun tidak habis dibagi 400, tidak habis dibagi 100, dan tidak habis dibagi 4, maka tahun tersebut bukan merupakan tahun kabisat."
      ]
    },
    {
      "cell_type": "code",
      "metadata": {
        "id": "3ak7ijenXS6A",
        "colab": {
          "base_uri": "https://localhost:8080/"
        },
        "outputId": "8752419c-8ea5-4de7-87da-54f07a1c8afb"
      },
      "source": [
        "tahun = int(input(\"Input tahun: \"))\n",
        "\n",
        "if (tahun % 4) == 0:\n",
        "    if (tahun % 100) == 0:\n",
        "        if (tahun % 400) == 0:\n",
        "            print(\"Tahun Kabisat\")\n",
        "        else:\n",
        "            print(\"Bukan Tahun Kabisat\")\n",
        "    else:\n",
        "        print(\"Tahun Kabisat\")\n",
        "else:\n",
        "    print(\"Bukan Tahun Kabisat\")"
      ],
      "execution_count": 6,
      "outputs": [
        {
          "output_type": "stream",
          "name": "stdout",
          "text": [
            "Input tahun: 2021\n",
            "Bukan Tahun Kabisat\n"
          ]
        }
      ]
    },
    {
      "cell_type": "markdown",
      "metadata": {
        "id": "yXJEA8DMlyWY"
      },
      "source": [
        "Mencari nilai pada List"
      ]
    },
    {
      "cell_type": "code",
      "metadata": {
        "id": "SWQGkDU4ldJU",
        "colab": {
          "base_uri": "https://localhost:8080/"
        },
        "outputId": "e85c8d25-4209-40ba-8cf3-79d891f4696f"
      },
      "source": [
        "drink_list = ['milk', 'coffee', \"teh\", \"stmj\"]\n",
        "'coffee' in drink_list "
      ],
      "execution_count": 7,
      "outputs": [
        {
          "output_type": "execute_result",
          "data": {
            "text/plain": [
              "True"
            ]
          },
          "metadata": {},
          "execution_count": 7
        }
      ]
    },
    {
      "cell_type": "markdown",
      "metadata": {
        "id": "PuFEU-Pfl6Jr"
      },
      "source": [
        "Penerapan Break, Continue, dan Pass"
      ]
    },
    {
      "cell_type": "code",
      "metadata": {
        "id": "X7pcFulAdPJs",
        "colab": {
          "base_uri": "https://localhost:8080/"
        },
        "outputId": "f6deddfd-806c-4978-9468-f9e5c3336192"
      },
      "source": [
        "for i in range(1,11):\n",
        "  if i == 3:\n",
        "    break\n",
        "    #continue\n",
        "    #pass\n",
        "  print(i,' x ',i ,' = ',i*i)"
      ],
      "execution_count": 9,
      "outputs": [
        {
          "output_type": "stream",
          "name": "stdout",
          "text": [
            "1  x  1  =  1\n",
            "2  x  2  =  4\n"
          ]
        }
      ]
    },
    {
      "cell_type": "markdown",
      "metadata": {
        "id": "_oAGk-Om5FLn"
      },
      "source": [
        "Bonus, looping menggunakan if dan def"
      ]
    },
    {
      "cell_type": "code",
      "metadata": {
        "colab": {
          "base_uri": "https://localhost:8080/"
        },
        "id": "8wXzTiy43SnV",
        "outputId": "18eb2f0c-ea6b-48fb-e044-579a25bef50a"
      },
      "source": [
        "i = 0\n",
        "\n",
        "def loop(cond):\n",
        "  if(cond<=10):\n",
        "    print(cond)\n",
        "    #cond += 1\n",
        "    #loop(cond)\n",
        "\n",
        "loop(i)"
      ],
      "execution_count": 11,
      "outputs": [
        {
          "output_type": "stream",
          "name": "stdout",
          "text": [
            "0\n"
          ]
        }
      ]
    },
    {
      "cell_type": "code",
      "metadata": {
        "colab": {
          "base_uri": "https://localhost:8080/",
          "height": 143
        },
        "id": "TZdDofhfQ2Xn",
        "outputId": "1cebe03e-30e5-4cab-c6b4-203b634f8a30"
      },
      "source": [
        "import pandas as pd\n",
        "data = {'Country': ['Belgium', 'India', 'Brazil'], 'Capital': ['Brussels', 'New Delhi', 'Brasília'], 'Population': [11190846, 1303171035, 207847528]}\n",
        "df = pd.DataFrame(data, columns=['Country', 'Capital', 'Population'])\n",
        "df"
      ],
      "execution_count": 12,
      "outputs": [
        {
          "output_type": "execute_result",
          "data": {
            "text/html": [
              "<div>\n",
              "<style scoped>\n",
              "    .dataframe tbody tr th:only-of-type {\n",
              "        vertical-align: middle;\n",
              "    }\n",
              "\n",
              "    .dataframe tbody tr th {\n",
              "        vertical-align: top;\n",
              "    }\n",
              "\n",
              "    .dataframe thead th {\n",
              "        text-align: right;\n",
              "    }\n",
              "</style>\n",
              "<table border=\"1\" class=\"dataframe\">\n",
              "  <thead>\n",
              "    <tr style=\"text-align: right;\">\n",
              "      <th></th>\n",
              "      <th>Country</th>\n",
              "      <th>Capital</th>\n",
              "      <th>Population</th>\n",
              "    </tr>\n",
              "  </thead>\n",
              "  <tbody>\n",
              "    <tr>\n",
              "      <th>0</th>\n",
              "      <td>Belgium</td>\n",
              "      <td>Brussels</td>\n",
              "      <td>11190846</td>\n",
              "    </tr>\n",
              "    <tr>\n",
              "      <th>1</th>\n",
              "      <td>India</td>\n",
              "      <td>New Delhi</td>\n",
              "      <td>1303171035</td>\n",
              "    </tr>\n",
              "    <tr>\n",
              "      <th>2</th>\n",
              "      <td>Brazil</td>\n",
              "      <td>Brasília</td>\n",
              "      <td>207847528</td>\n",
              "    </tr>\n",
              "  </tbody>\n",
              "</table>\n",
              "</div>"
            ],
            "text/plain": [
              "   Country    Capital  Population\n",
              "0  Belgium   Brussels    11190846\n",
              "1    India  New Delhi  1303171035\n",
              "2   Brazil   Brasília   207847528"
            ]
          },
          "metadata": {},
          "execution_count": 12
        }
      ]
    },
    {
      "cell_type": "code",
      "metadata": {
        "id": "HhITc_lARFGt",
        "colab": {
          "base_uri": "https://localhost:8080/",
          "height": 112
        },
        "outputId": "d211d1da-9df5-447e-dafa-8ff7e8c65f11"
      },
      "source": [
        "df.iloc[:2,:3]"
      ],
      "execution_count": 13,
      "outputs": [
        {
          "output_type": "execute_result",
          "data": {
            "text/html": [
              "<div>\n",
              "<style scoped>\n",
              "    .dataframe tbody tr th:only-of-type {\n",
              "        vertical-align: middle;\n",
              "    }\n",
              "\n",
              "    .dataframe tbody tr th {\n",
              "        vertical-align: top;\n",
              "    }\n",
              "\n",
              "    .dataframe thead th {\n",
              "        text-align: right;\n",
              "    }\n",
              "</style>\n",
              "<table border=\"1\" class=\"dataframe\">\n",
              "  <thead>\n",
              "    <tr style=\"text-align: right;\">\n",
              "      <th></th>\n",
              "      <th>Country</th>\n",
              "      <th>Capital</th>\n",
              "      <th>Population</th>\n",
              "    </tr>\n",
              "  </thead>\n",
              "  <tbody>\n",
              "    <tr>\n",
              "      <th>0</th>\n",
              "      <td>Belgium</td>\n",
              "      <td>Brussels</td>\n",
              "      <td>11190846</td>\n",
              "    </tr>\n",
              "    <tr>\n",
              "      <th>1</th>\n",
              "      <td>India</td>\n",
              "      <td>New Delhi</td>\n",
              "      <td>1303171035</td>\n",
              "    </tr>\n",
              "  </tbody>\n",
              "</table>\n",
              "</div>"
            ],
            "text/plain": [
              "   Country    Capital  Population\n",
              "0  Belgium   Brussels    11190846\n",
              "1    India  New Delhi  1303171035"
            ]
          },
          "metadata": {},
          "execution_count": 13
        }
      ]
    },
    {
      "cell_type": "code",
      "metadata": {
        "id": "75afQjz7S1wB",
        "colab": {
          "base_uri": "https://localhost:8080/"
        },
        "outputId": "b9a0b3d7-4134-4e59-a4f8-2cf441494c9b"
      },
      "source": [
        "# Function to convert number into string\n",
        "# Switcher is dictionary data type here\n",
        "def numbers_to_strings(argument):\n",
        "    switcher = {\n",
        "        0: \"zero\",\n",
        "        1: \"one\",\n",
        "        2: \"two\",\n",
        "    }\n",
        " \n",
        "    # get() method of dictionary data type returns\n",
        "    # value of passed argument if it is present\n",
        "    # in dictionary otherwise second argument will\n",
        "    # be assigned as default value of passed argument\n",
        "    return switcher.get(argument, \"nothing\")\n",
        " \n",
        "# Driver program\n",
        "if __name__ == \"__main__\":\n",
        "    argument=2\n",
        "    print (numbers_to_strings(argument))"
      ],
      "execution_count": 15,
      "outputs": [
        {
          "output_type": "stream",
          "name": "stdout",
          "text": [
            "two\n"
          ]
        }
      ]
    }
  ]
}
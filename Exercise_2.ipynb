{
  "nbformat": 4,
  "nbformat_minor": 0,
  "metadata": {
    "kernelspec": {
      "display_name": "Python 3",
      "language": "python",
      "name": "python3"
    },
    "language_info": {
      "codemirror_mode": {
        "name": "ipython",
        "version": 3
      },
      "file_extension": ".py",
      "mimetype": "text/x-python",
      "name": "python",
      "nbconvert_exporter": "python",
      "pygments_lexer": "ipython3",
      "version": "3.7.4"
    },
    "colab": {
      "name": "Exercise_2.ipynb",
      "provenance": [],
      "include_colab_link": true
    }
  },
  "cells": [
    {
      "cell_type": "markdown",
      "metadata": {
        "id": "view-in-github",
        "colab_type": "text"
      },
      "source": [
        "<a href=\"https://colab.research.google.com/github/riskydav/Belajar-Python/blob/main/Exercise_2.ipynb\" target=\"_parent\"><img src=\"https://colab.research.google.com/assets/colab-badge.svg\" alt=\"Open In Colab\"/></a>"
      ]
    },
    {
      "cell_type": "code",
      "metadata": {
        "id": "_KC6jw7EDb4Y",
        "colab": {
          "base_uri": "https://localhost:8080/"
        },
        "outputId": "2124a8f0-32cf-4fee-dda7-62ab60b43d09"
      },
      "source": [
        "# 1. Membuat Tuple dan Cek typenya\n",
        "fruits = (\"apple\", \"banana\", \"cherry\", \"orange\", \"kiwi\", \"melon\", \"mango\")\n",
        "type(fruits)"
      ],
      "execution_count": 1,
      "outputs": [
        {
          "output_type": "execute_result",
          "data": {
            "text/plain": [
              "tuple"
            ]
          },
          "metadata": {},
          "execution_count": 1
        }
      ]
    },
    {
      "cell_type": "code",
      "metadata": {
        "id": "5_GIrWuxDb4f",
        "colab": {
          "base_uri": "https://localhost:8080/"
        },
        "outputId": "8c465d07-6b2a-4abd-966b-440e4ce7a9c9"
      },
      "source": [
        "len(fruits)"
      ],
      "execution_count": 2,
      "outputs": [
        {
          "output_type": "execute_result",
          "data": {
            "text/plain": [
              "7"
            ]
          },
          "metadata": {},
          "execution_count": 2
        }
      ]
    },
    {
      "cell_type": "code",
      "metadata": {
        "id": "NUWUY_m8Db4g",
        "colab": {
          "base_uri": "https://localhost:8080/"
        },
        "outputId": "ef8bf9bb-97eb-44b1-dd3b-05eec1efe676"
      },
      "source": [
        "# 2. Ambil item apple sebanyak 2, orange 1, mango 3\n",
        "# Simpan dengan nama variable add\n",
        "add = fruits[0],fruits[0],fruits[3],fruits[6],fruits[6],fruits[6]\n",
        "add"
      ],
      "execution_count": 3,
      "outputs": [
        {
          "output_type": "execute_result",
          "data": {
            "text/plain": [
              "('apple', 'apple', 'orange', 'mango', 'mango', 'mango')"
            ]
          },
          "metadata": {},
          "execution_count": 3
        }
      ]
    },
    {
      "cell_type": "code",
      "metadata": {
        "id": "Vj5PnI_dDb4h",
        "colab": {
          "base_uri": "https://localhost:8080/"
        },
        "outputId": "806985ba-9706-4aa1-c2a4-72dcca17c5b3"
      },
      "source": [
        "# 3. Buat variable new dengan berisi gabungkan variable add dengan variable fruits\n",
        "# Urutkan isi variable new\n",
        "new = fruits + add\n",
        "sorted(new)"
      ],
      "execution_count": 4,
      "outputs": [
        {
          "output_type": "execute_result",
          "data": {
            "text/plain": [
              "['apple',\n",
              " 'apple',\n",
              " 'apple',\n",
              " 'banana',\n",
              " 'cherry',\n",
              " 'kiwi',\n",
              " 'mango',\n",
              " 'mango',\n",
              " 'mango',\n",
              " 'mango',\n",
              " 'melon',\n",
              " 'orange',\n",
              " 'orange']"
            ]
          },
          "metadata": {},
          "execution_count": 4
        }
      ]
    },
    {
      "cell_type": "code",
      "metadata": {
        "id": "mlamlGIfDb4i",
        "colab": {
          "base_uri": "https://localhost:8080/"
        },
        "outputId": "d106328f-208e-433c-825d-2a2108bab70a"
      },
      "source": [
        "# 4. Ubah variable new dari type data tuple menjadi set\n",
        "# Tambahkan item pear\n",
        "# Hitung jumlah itemnya\n",
        "new = set(new)\n",
        "new.add(\"pear\")\n",
        "print(new)\n",
        "len(new)"
      ],
      "execution_count": 5,
      "outputs": [
        {
          "output_type": "stream",
          "name": "stdout",
          "text": [
            "{'cherry', 'kiwi', 'apple', 'orange', 'banana', 'mango', 'melon', 'pear'}\n"
          ]
        },
        {
          "output_type": "execute_result",
          "data": {
            "text/plain": [
              "8"
            ]
          },
          "metadata": {},
          "execution_count": 5
        }
      ]
    },
    {
      "cell_type": "code",
      "metadata": {
        "id": "EBnddDR3Db4j",
        "colab": {
          "base_uri": "https://localhost:8080/"
        },
        "outputId": "a81273ff-d672-4af5-8e0c-fa7f77e2969b"
      },
      "source": [
        "# 5. Buat variable cars dengan ketentuan\n",
        "cars = {\"Toyota Vios\":270000000,\n",
        "       \"Toyota Yaris\":235000000,\n",
        "       \"Honda Civic\":400000000,\n",
        "       \"Nissan Skyline\":690000000,\n",
        "       \"Honda City\":312000000}\n",
        "print(cars)\n",
        "type(cars)"
      ],
      "execution_count": 6,
      "outputs": [
        {
          "output_type": "stream",
          "name": "stdout",
          "text": [
            "{'Toyota Vios': 270000000, 'Toyota Yaris': 235000000, 'Honda Civic': 400000000, 'Nissan Skyline': 690000000, 'Honda City': 312000000}\n"
          ]
        },
        {
          "output_type": "execute_result",
          "data": {
            "text/plain": [
              "dict"
            ]
          },
          "metadata": {},
          "execution_count": 6
        }
      ]
    },
    {
      "cell_type": "code",
      "metadata": {
        "id": "K212n2kYDb4j",
        "colab": {
          "base_uri": "https://localhost:8080/"
        },
        "outputId": "9adc0e7b-3438-4c32-a15d-9bd72de90d58"
      },
      "source": [
        "# 6. Tambahkan key dan value dibawah ini\n",
        "# BMW M3:1900000000\n",
        "# urutkan berdasarkan item\n",
        "cars[\"BMW M3\"]=1900000000\n",
        "sorted(cars.items())"
      ],
      "execution_count": 7,
      "outputs": [
        {
          "output_type": "execute_result",
          "data": {
            "text/plain": [
              "[('BMW M3', 1900000000),\n",
              " ('Honda City', 312000000),\n",
              " ('Honda Civic', 400000000),\n",
              " ('Nissan Skyline', 690000000),\n",
              " ('Toyota Vios', 270000000),\n",
              " ('Toyota Yaris', 235000000)]"
            ]
          },
          "metadata": {},
          "execution_count": 7
        }
      ]
    },
    {
      "cell_type": "code",
      "metadata": {
        "id": "4sOqIKrsDb4l",
        "colab": {
          "base_uri": "https://localhost:8080/"
        },
        "outputId": "472af560-fc7a-4ffe-9a41-5f09c87f2a24"
      },
      "source": [
        "# 7. Ubah value Nissan Skyline menjadi 641000000\n",
        "cars[\"Nissan Skyline\"] = 641000000\n",
        "cars"
      ],
      "execution_count": 8,
      "outputs": [
        {
          "output_type": "execute_result",
          "data": {
            "text/plain": [
              "{'BMW M3': 1900000000,\n",
              " 'Honda City': 312000000,\n",
              " 'Honda Civic': 400000000,\n",
              " 'Nissan Skyline': 641000000,\n",
              " 'Toyota Vios': 270000000,\n",
              " 'Toyota Yaris': 235000000}"
            ]
          },
          "metadata": {},
          "execution_count": 8
        }
      ]
    },
    {
      "cell_type": "code",
      "metadata": {
        "id": "rXYPc80ODb4m",
        "colab": {
          "base_uri": "https://localhost:8080/"
        },
        "outputId": "52a049c0-149d-41e6-bf0d-3b328a07bee6"
      },
      "source": [
        "# 8. Ubah key Nissan Skyline menjadi Honda Accord\n",
        "# Cara 1\n",
        "cars[\"Honda Accord\"] = cars.pop(\"Nissan Skyline\")\n",
        "cars"
      ],
      "execution_count": 9,
      "outputs": [
        {
          "output_type": "execute_result",
          "data": {
            "text/plain": [
              "{'BMW M3': 1900000000,\n",
              " 'Honda Accord': 641000000,\n",
              " 'Honda City': 312000000,\n",
              " 'Honda Civic': 400000000,\n",
              " 'Toyota Vios': 270000000,\n",
              " 'Toyota Yaris': 235000000}"
            ]
          },
          "metadata": {},
          "execution_count": 9
        }
      ]
    },
    {
      "cell_type": "code",
      "metadata": {
        "id": "3p-aeLmfDb4n"
      },
      "source": [
        "# 8. Ubah key Nissan Skyline menjadi Honda Accord\n",
        "# Cara 2\n",
        "#cars[\"Honda Accord\"] = cars[\"Nissan Skyline\"]\n",
        "#del cars[\"Nissan Skyline\"]\n",
        "#cars"
      ],
      "execution_count": 44,
      "outputs": []
    },
    {
      "cell_type": "code",
      "metadata": {
        "id": "4qE-Rd1kDb4o",
        "colab": {
          "base_uri": "https://localhost:8080/"
        },
        "outputId": "4f97832c-c434-4ed8-e6cb-72f53c4d6abc"
      },
      "source": [
        "# 9. Buat variable cars_set dengan type data set berisi value dari variable cars\n",
        "# buat variable cars_total dengan berisi total dari seluruh item \n",
        "# cetak hasilnya\n",
        "cars_set = set(cars.values())\n",
        "cars_total = sum(cars_set)\n",
        "cars_total"
      ],
      "execution_count": 11,
      "outputs": [
        {
          "output_type": "execute_result",
          "data": {
            "text/plain": [
              "3758000000"
            ]
          },
          "metadata": {},
          "execution_count": 11
        }
      ]
    },
    {
      "cell_type": "code",
      "metadata": {
        "id": "T_4naestDb4o",
        "colab": {
          "base_uri": "https://localhost:8080/"
        },
        "outputId": "fd560be4-1e41-417e-cbb9-54bbb5a332f8"
      },
      "source": [
        "# 10. Tambahkan key Total pada variable cars dengan value cars_total\n",
        "# cetak hasilnya\n",
        "cars[\"Total\"] = cars_total\n",
        "cars"
      ],
      "execution_count": 12,
      "outputs": [
        {
          "output_type": "execute_result",
          "data": {
            "text/plain": [
              "{'BMW M3': 1900000000,\n",
              " 'Honda Accord': 641000000,\n",
              " 'Honda City': 312000000,\n",
              " 'Honda Civic': 400000000,\n",
              " 'Total': 3758000000,\n",
              " 'Toyota Vios': 270000000,\n",
              " 'Toyota Yaris': 235000000}"
            ]
          },
          "metadata": {},
          "execution_count": 12
        }
      ]
    },
    {
      "cell_type": "markdown",
      "metadata": {
        "id": "SKWohIAoDfF5"
      },
      "source": [
        "# Conditional Test\n",
        "\n",
        "A conditional test is an expression that can be evaluated as True or False. Python uses the values True and False to decide whether the code in an if statement should be executed.\n",
        "\n",
        "```\n",
        "# This is formatted as code\n",
        "```\n",
        "\n"
      ]
    },
    {
      "cell_type": "markdown",
      "metadata": {
        "id": "8jKdBElXEW2x"
      },
      "source": [
        "### Checking for equality \n",
        "A single equal sign assigns a value to a variable. A double equal sign (==) checks whether two values are equal.\n"
      ]
    },
    {
      "cell_type": "code",
      "metadata": {
        "colab": {
          "base_uri": "https://localhost:8080/"
        },
        "id": "6DOQ0pGtEb43",
        "outputId": "0a482776-12f3-437e-8e9f-edef6f0a1ade"
      },
      "source": [
        "car = 'bmw' \n",
        "car == 'bmw' "
      ],
      "execution_count": 13,
      "outputs": [
        {
          "output_type": "execute_result",
          "data": {
            "text/plain": [
              "True"
            ]
          },
          "metadata": {},
          "execution_count": 13
        }
      ]
    },
    {
      "cell_type": "markdown",
      "metadata": {
        "id": "pb8yjbXeEdzg"
      },
      "source": [
        "### Ignoring case when making a comparison. "
      ]
    },
    {
      "cell_type": "code",
      "metadata": {
        "id": "b10Nhxf8Ejpp"
      },
      "source": [
        "car = 'Audi' \n",
        "car.lower() == 'audi'"
      ],
      "execution_count": null,
      "outputs": []
    },
    {
      "cell_type": "markdown",
      "metadata": {
        "id": "rJBym-RsEnD8"
      },
      "source": [
        "### Checking for inequality"
      ]
    },
    {
      "cell_type": "code",
      "metadata": {
        "id": "hWnaCoTOErR5"
      },
      "source": [
        "topping = 'mushrooms' \n",
        "topping != 'anchovies'"
      ],
      "execution_count": null,
      "outputs": []
    },
    {
      "cell_type": "markdown",
      "metadata": {
        "id": "VKnuMeE-Et2x"
      },
      "source": [
        "# Numerical comparison\n",
        "\n",
        "Testing numerical values is similar to testing string values."
      ]
    },
    {
      "cell_type": "markdown",
      "metadata": {
        "id": "1NK8gL0JEw8A"
      },
      "source": [
        "### Testing equality and inequality"
      ]
    },
    {
      "cell_type": "code",
      "metadata": {
        "id": "jSnNidCYEze3"
      },
      "source": [
        "age = 18 \n",
        "age == 18"
      ],
      "execution_count": null,
      "outputs": []
    },
    {
      "cell_type": "code",
      "metadata": {
        "id": "YJC3VigxE1bb"
      },
      "source": [
        "age = 18 \n",
        "age != 18"
      ],
      "execution_count": null,
      "outputs": []
    },
    {
      "cell_type": "code",
      "metadata": {
        "id": "pKcP5KBrE4ls"
      },
      "source": [
        "age = 19 \n",
        "age < 21"
      ],
      "execution_count": null,
      "outputs": []
    },
    {
      "cell_type": "code",
      "metadata": {
        "id": "UbQRFLtlE6cX"
      },
      "source": [
        "age = 19 \n",
        "age > 21 "
      ],
      "execution_count": null,
      "outputs": []
    },
    {
      "cell_type": "markdown",
      "metadata": {
        "id": "c5PGMHqIE7rw"
      },
      "source": [
        "# Checking multiple conditions\n",
        "\n",
        "You can check multiple conditions at the same time. The and operator returns True if all conditions listed are True. The or operator returns True if any condition is True\n"
      ]
    },
    {
      "cell_type": "markdown",
      "metadata": {
        "id": "nDVySl02E-Gw"
      },
      "source": [
        "### Using 'and' to check multiple conditions\n"
      ]
    },
    {
      "cell_type": "code",
      "metadata": {
        "id": "Pzm4zyPtFBDc",
        "colab": {
          "base_uri": "https://localhost:8080/"
        },
        "outputId": "c2733a9c-24a3-4c4c-97c0-410ade19b79e"
      },
      "source": [
        "age_0 = 22\n",
        "age_1 = 18\n",
        "age_0 >= 21 and age_1 >= 21"
      ],
      "execution_count": 20,
      "outputs": [
        {
          "output_type": "execute_result",
          "data": {
            "text/plain": [
              "False"
            ]
          },
          "metadata": {},
          "execution_count": 20
        }
      ]
    },
    {
      "cell_type": "code",
      "metadata": {
        "id": "ExJC68ryFDdF",
        "colab": {
          "base_uri": "https://localhost:8080/"
        },
        "outputId": "ff2d21e4-cad6-4cb9-d956-0bba837aaa30"
      },
      "source": [
        "age_0 = 22\n",
        "age_1 = 23\n",
        "age_0 >= 21 and age_1 >= 21"
      ],
      "execution_count": 21,
      "outputs": [
        {
          "output_type": "execute_result",
          "data": {
            "text/plain": [
              "True"
            ]
          },
          "metadata": {},
          "execution_count": 21
        }
      ]
    },
    {
      "cell_type": "markdown",
      "metadata": {
        "id": "0S72zf0-FG1-"
      },
      "source": [
        "### Using 'or' to check multiple conditions\n"
      ]
    },
    {
      "cell_type": "code",
      "metadata": {
        "id": "KSY8ABrUFKys",
        "colab": {
          "base_uri": "https://localhost:8080/"
        },
        "outputId": "49593430-b740-423e-c3a6-6bade1a8c5f1"
      },
      "source": [
        "age_0 = 22\n",
        "age_1 = 18\n",
        "age_0 >= 21 or age_1 >= 21"
      ],
      "execution_count": 22,
      "outputs": [
        {
          "output_type": "execute_result",
          "data": {
            "text/plain": [
              "True"
            ]
          },
          "metadata": {},
          "execution_count": 22
        }
      ]
    },
    {
      "cell_type": "code",
      "metadata": {
        "id": "bO4Vfv5-FNbK",
        "colab": {
          "base_uri": "https://localhost:8080/"
        },
        "outputId": "865a8e42-6d0a-4133-dca2-06cd45e67e8f"
      },
      "source": [
        "age_0 = 18\n",
        "age_1 = 18\n",
        "age_0 >= 21 or age_1 >= 21"
      ],
      "execution_count": 23,
      "outputs": [
        {
          "output_type": "execute_result",
          "data": {
            "text/plain": [
              "False"
            ]
          },
          "metadata": {},
          "execution_count": 23
        }
      ]
    },
    {
      "cell_type": "markdown",
      "metadata": {
        "id": "L0cSRKJGFQS_"
      },
      "source": [
        "# if statements\n",
        "\n",
        "Several kinds of if statements exist. Your choice of which to use depends on the number of conditions you need to test. You can have as many elif block as you need, and the else block is always optional"
      ]
    },
    {
      "cell_type": "markdown",
      "metadata": {
        "id": "17O_F0saFTDC"
      },
      "source": [
        "### Simple if statement\n"
      ]
    },
    {
      "cell_type": "code",
      "metadata": {
        "id": "pF5s47-NFVfQ",
        "colab": {
          "base_uri": "https://localhost:8080/"
        },
        "outputId": "9d514426-6060-4f7d-a118-b9aa1e985ffc"
      },
      "source": [
        "age = 19\n",
        "\n",
        "if age >= 18:\n",
        "\tprint(\"You're old enough to vote!\")"
      ],
      "execution_count": 24,
      "outputs": [
        {
          "output_type": "stream",
          "name": "stdout",
          "text": [
            "You're old enough to vote!\n"
          ]
        }
      ]
    },
    {
      "cell_type": "markdown",
      "metadata": {
        "id": "0w-I67LVFYSW"
      },
      "source": [
        "### if-else-statements"
      ]
    },
    {
      "cell_type": "code",
      "metadata": {
        "id": "UdnviOBrFbOy",
        "colab": {
          "base_uri": "https://localhost:8080/"
        },
        "outputId": "bd5b6144-eb10-4a5e-9a7a-cf26e2c12d7a"
      },
      "source": [
        "age = 17\n",
        "\n",
        "if age >= 18:\n",
        "\tprint(\"You're old enough to vote!\")\n",
        "else:\n",
        "\tprint(\"You can’t vote yet.\")"
      ],
      "execution_count": 25,
      "outputs": [
        {
          "output_type": "stream",
          "name": "stdout",
          "text": [
            "You can’t vote yet.\n"
          ]
        }
      ]
    },
    {
      "cell_type": "markdown",
      "metadata": {
        "id": "Myj0V11WFd4L"
      },
      "source": [
        "# Conditional test with list\n",
        "\n",
        "You can easily test whether a certain value is in a list. You can also test whether a list is empty before trying to loop through the list."
      ]
    },
    {
      "cell_type": "markdown",
      "metadata": {
        "id": "o4xhmy1MFhCw"
      },
      "source": [
        "### Testing if a value is in a list"
      ]
    },
    {
      "cell_type": "code",
      "metadata": {
        "id": "_1ZxSAA7FjU0",
        "colab": {
          "base_uri": "https://localhost:8080/"
        },
        "outputId": "67b85719-d873-4164-e062-b56f04241146"
      },
      "source": [
        "players = ['al', 'bea', 'cyn', 'dale']\n",
        "'al' in players "
      ],
      "execution_count": 26,
      "outputs": [
        {
          "output_type": "execute_result",
          "data": {
            "text/plain": [
              "True"
            ]
          },
          "metadata": {},
          "execution_count": 26
        }
      ]
    },
    {
      "cell_type": "code",
      "metadata": {
        "id": "8gwVfzTnFmQH",
        "colab": {
          "base_uri": "https://localhost:8080/"
        },
        "outputId": "fc9433e0-ffe4-4398-cfb2-fecc53c1e1ce"
      },
      "source": [
        "players = ['al', 'bea', 'cyn', 'dale']\n",
        "'eric' in players"
      ],
      "execution_count": 27,
      "outputs": [
        {
          "output_type": "execute_result",
          "data": {
            "text/plain": [
              "False"
            ]
          },
          "metadata": {},
          "execution_count": 27
        }
      ]
    },
    {
      "cell_type": "markdown",
      "metadata": {
        "id": "z0Gieq5XFoZz"
      },
      "source": [
        "### Conditional test with lists (cont.)"
      ]
    },
    {
      "cell_type": "markdown",
      "metadata": {
        "id": "apzQ0tQPFp4b"
      },
      "source": [
        "### Testing if a value is not in a list\n"
      ]
    },
    {
      "cell_type": "code",
      "metadata": {
        "id": "WXr1WZXvFtca",
        "colab": {
          "base_uri": "https://localhost:8080/"
        },
        "outputId": "e3f2282a-f07c-4f33-cccc-95c42a29cda5"
      },
      "source": [
        "banned_users = ['ann', 'chad', 'dee'] \n",
        "user = 'erin' \n",
        "\n",
        "if user not in banned_users:     \n",
        "    print(\"You can play!\")"
      ],
      "execution_count": 28,
      "outputs": [
        {
          "output_type": "stream",
          "name": "stdout",
          "text": [
            "You can play!\n"
          ]
        }
      ]
    },
    {
      "cell_type": "markdown",
      "metadata": {
        "id": "g8hpXRUoFwOF"
      },
      "source": [
        "### Checking if a list is empty\n"
      ]
    },
    {
      "cell_type": "code",
      "metadata": {
        "id": "JMfZVTyvF0I0",
        "colab": {
          "base_uri": "https://localhost:8080/"
        },
        "outputId": "3e816f35-9b96-4ecf-a2b6-462eaf085a12"
      },
      "source": [
        "players = [] \n",
        "\n",
        "if players:     \n",
        "    for player in players:         \n",
        "        print(\"Player: \" + player.title()) \n",
        "else:     \n",
        "        print(\"We have no players yet!\") "
      ],
      "execution_count": 29,
      "outputs": [
        {
          "output_type": "stream",
          "name": "stdout",
          "text": [
            "We have no players yet!\n"
          ]
        }
      ]
    },
    {
      "cell_type": "markdown",
      "metadata": {
        "id": "ckBZ-QeXF2qd"
      },
      "source": [
        "# Accepting input\n",
        "\n",
        "You can allow your users to enter input using the input() statement. In Python 3 all input is stored as a string"
      ]
    },
    {
      "cell_type": "markdown",
      "metadata": {
        "id": "cV2sdDooF3pB"
      },
      "source": [
        "### Simple input"
      ]
    },
    {
      "cell_type": "code",
      "metadata": {
        "id": "lEG052-uF6zE",
        "colab": {
          "base_uri": "https://localhost:8080/"
        },
        "outputId": "d1b92313-d9f1-4bb5-b5dc-03fd059aaca6"
      },
      "source": [
        "name = input(\"What’s your name? \")\n",
        "print(\"Hello, \"+ name + \".\")"
      ],
      "execution_count": 30,
      "outputs": [
        {
          "output_type": "stream",
          "name": "stdout",
          "text": [
            "What’s your name? Risky\n",
            "Hello, Risky.\n"
          ]
        }
      ]
    },
    {
      "cell_type": "markdown",
      "metadata": {
        "id": "OX_dRXEZF-ks"
      },
      "source": [
        "### Accepting numerical input"
      ]
    },
    {
      "cell_type": "code",
      "metadata": {
        "id": "kAyYJhiHGBFd",
        "colab": {
          "base_uri": "https://localhost:8080/"
        },
        "outputId": "0fa245f0-a25c-4ca5-bdc3-1e5a0db06845"
      },
      "source": [
        "age = input(\"How old are you? \")\n",
        "age = int(age)\n",
        "\n",
        "if age >= 18:\n",
        "\t\tprint(\"\\nYou can vote!\")\n",
        "else:\n",
        "\t\tprint(\"\\nYou can;t vote yet.\")"
      ],
      "execution_count": 31,
      "outputs": [
        {
          "output_type": "stream",
          "name": "stdout",
          "text": [
            "How old are you? 21\n",
            "\n",
            "You can vote!\n"
          ]
        }
      ]
    },
    {
      "cell_type": "markdown",
      "metadata": {
        "id": "E4W8w9nKGDwz"
      },
      "source": [
        "# While loops\n",
        "\n",
        "A while loop repeats a block of code as long as a condition is True "
      ]
    },
    {
      "cell_type": "markdown",
      "metadata": {
        "id": "jEBmY40ZGHEp"
      },
      "source": [
        "### Counting to 5"
      ]
    },
    {
      "cell_type": "markdown",
      "metadata": {
        "id": "qK9z_6cUGKVy"
      },
      "source": [
        "current_number = 1 \n",
        "\n",
        "while current_number <= 5:\n",
        "    print(current_number)     \n",
        "current_number += 1"
      ]
    },
    {
      "cell_type": "markdown",
      "metadata": {
        "id": "7A2zzaXlGLZY"
      },
      "source": [
        "### Letting the user choose when to quit"
      ]
    },
    {
      "cell_type": "code",
      "metadata": {
        "id": "iPkKmC_RGPRC",
        "colab": {
          "base_uri": "https://localhost:8080/"
        },
        "outputId": "46a5413c-0e05-4832-9e38-b954b8d6ad50"
      },
      "source": [
        "prompt = \"\\nTell me something, and I’ll \"\n",
        "prompt += \"\\repeat it back to you. \"\n",
        "prompt += \"\\nEnter ‘quit’ to end the program.\"\n",
        "\n",
        "message = \"\"\n",
        "while message != 'quit':\n",
        "    message = input(prompt)\n",
        "\n",
        "if message != 'quit':\n",
        "    print(message)"
      ],
      "execution_count": 32,
      "outputs": [
        {
          "name": "stdout",
          "output_type": "stream",
          "text": [
            "\n",
            "Tell me something, and I’ll \repeat it back to you. \n",
            "Enter ‘quit’ to end the program.quit\n"
          ]
        }
      ]
    },
    {
      "cell_type": "markdown",
      "metadata": {
        "id": "b7ylqiccGScY"
      },
      "source": [
        "### Using a flag"
      ]
    },
    {
      "cell_type": "code",
      "metadata": {
        "id": "W4pZmH7ZGUV7",
        "colab": {
          "base_uri": "https://localhost:8080/"
        },
        "outputId": "5eca02ac-3122-46a1-d7c2-b8806dc3e9fe"
      },
      "source": [
        "prompt = \"\\nTell me something, and I’ll \"\n",
        "prompt += \"\\repeat it back to you. \"\n",
        "prompt += \"\\nEnter ‘quit’ to end the program.\"\n",
        "\n",
        "active = True\n",
        "while active:\n",
        "    message = input(prompt)\n",
        "    \n",
        "    if message == 'quit':\n",
        "        active = False\n",
        "    else:\n",
        "        print(message)"
      ],
      "execution_count": 33,
      "outputs": [
        {
          "name": "stdout",
          "output_type": "stream",
          "text": [
            "\n",
            "Tell me something, and I’ll \repeat it back to you. \n",
            "Enter ‘quit’ to end the program.quit\n"
          ]
        }
      ]
    },
    {
      "cell_type": "markdown",
      "metadata": {
        "id": "NAEcPKGhGW0j"
      },
      "source": [
        "### Using break to exit a loop"
      ]
    },
    {
      "cell_type": "code",
      "metadata": {
        "id": "_KIwnjXhGYxh",
        "colab": {
          "base_uri": "https://localhost:8080/"
        },
        "outputId": "cd053585-b6d5-44d1-daec-1750d5b3d467"
      },
      "source": [
        "prompt = \"\\nWhat cities have you visited\"\n",
        "prompt += \"\\nEnter ‘quit’ when you’re done. \"\n",
        "\n",
        "while True:\n",
        "    city = input(prompt)\n",
        "\n",
        "    if city == 'quit':\n",
        "        break \n",
        "    else:\n",
        "        print(\"I’ve been to \" + city + \"!\")"
      ],
      "execution_count": 34,
      "outputs": [
        {
          "name": "stdout",
          "output_type": "stream",
          "text": [
            "\n",
            "What cities have you visited\n",
            "Enter ‘quit’ when you’re done. \n",
            "I’ve been to !\n",
            "\n",
            "What cities have you visited\n",
            "Enter ‘quit’ when you’re done. \n",
            "I’ve been to !\n",
            "\n",
            "What cities have you visited\n",
            "Enter ‘quit’ when you’re done. \n",
            "I’ve been to !\n",
            "\n",
            "What cities have you visited\n",
            "Enter ‘quit’ when you’re done. \n",
            "I’ve been to !\n",
            "\n",
            "What cities have you visited\n",
            "Enter ‘quit’ when you’re done. quit\n"
          ]
        }
      ]
    },
    {
      "cell_type": "markdown",
      "metadata": {
        "id": "BqS0eOerGbic"
      },
      "source": [
        "# Thank You"
      ]
    }
  ]
}
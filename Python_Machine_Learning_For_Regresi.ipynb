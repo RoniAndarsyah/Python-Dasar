{
  "nbformat": 4,
  "nbformat_minor": 0,
  "metadata": {
    "colab": {
      "name": "Python Machine Learning For Regresi.ipynb",
      "provenance": [],
      "include_colab_link": true
    },
    "kernelspec": {
      "name": "python3",
      "display_name": "Python 3"
    },
    "language_info": {
      "name": "python"
    }
  },
  "cells": [
    {
      "cell_type": "markdown",
      "metadata": {
        "id": "view-in-github",
        "colab_type": "text"
      },
      "source": [
        "<a href=\"https://colab.research.google.com/github/riskydav/Belajar-Python/blob/main/Python_Machine_Learning_For_Regresi.ipynb\" target=\"_parent\"><img src=\"https://colab.research.google.com/assets/colab-badge.svg\" alt=\"Open In Colab\"/></a>"
      ]
    },
    {
      "cell_type": "markdown",
      "metadata": {
        "id": "AwM0YTs_kxa4"
      },
      "source": [
        "# Implementasi Machine Learning dengan Regresi Linear \n",
        "Berikut adalah tahapan dlam membuat *machine learning* sederhana.\n",
        "\n",
        "* Memahami permasalahan yang akan diselesaikan.\n",
        "* Memilih metode yang akan digunakan.\n",
        "* Tahapan mempersiapkan data.\n",
        "* Tahapan implementasi."
      ]
    },
    {
      "cell_type": "markdown",
      "metadata": {
        "id": "PHc2m1Qyk_v7"
      },
      "source": [
        "# Contoh Studi Kasus dan Dataset\n",
        "Pada bagian ini akan dibahas studi kasus sederhana untuk membuat machine learning dengan menerapkan metode *Simple Regresi Linear.* Sebuah penelitian dilakukan untuk mengetahui pengaruh lama bekerja terhadap pendapatan gaji sebuah perusahaan.\n",
        "\n",
        "Simple regresi linear akan digunakan untuk memprediksi nilai gaji yang akan diperoleh berdasarkan lama bekerja. Disamping itu hasil machine learning juga akan bisa melihat korelasi antara lama bekerja dengan nilai pendapatan yang diperoleh. Output lain yang bisa diperoleh adalah grafik korelasinya antara kedua variabel tersebut."
      ]
    },
    {
      "cell_type": "markdown",
      "metadata": {
        "id": "IOpV8ytZlCGG"
      },
      "source": [
        "# Memahami Algoritma Simple Regresi Linear\n",
        "*Simple Regresi Linear* adalah salah satu metode yang biasa digunakan untuk menguji sejauh mana hubungan sebab akibat antara dua buah variabel. Kedua variabel tersebut sering disebut sebagai variabel faktor penyebab (X) terhadap variabel akibat (Y). Variabel X seringkali disebut sebagai *Predictor,* sedangkan variabel Y seringkali disebut sebagai *Response.*\n",
        "\n",
        "*Simple Regresi Linear* seringkali dipergunakan untuk melakukan prediksi atau peramalan baik tentang karakteristik baik yang bersifat kualitas maupun kuantitas."
      ]
    },
    {
      "cell_type": "markdown",
      "metadata": {
        "id": "mQ8Qr1VAlF9o"
      },
      "source": [
        "Model persamaan *Simple Regresi Linear*\n",
        "\n",
        "**Y = a + bX**\n",
        "\n",
        "dimana:\n",
        "* Y = Variabel Akibat *(Response)* yang juga disebut sebagai *dependent variable.*\n",
        "* X = Variabel Faktor Penyebab atau *predictor* yang juga merupakan *independent variable.*\n",
        "* a = konstanta.\n",
        "* b = koefisien regresi, yaitu besaran *Response* yang ditimbulkan oleh *Predictor.*"
      ]
    },
    {
      "cell_type": "markdown",
      "metadata": {
        "id": "higrTZ0ilLRC"
      },
      "source": [
        "Penjelasan dari grafik diatas:\n",
        "* Jumlah pembelian adalah Y, atau variabel akibat yang juga disebut *dependent variable.*\n",
        "* Biaya Promosi adalah X, atau predictor, variabel faktor penyebab, yang juga disebut sebagai variabel *independent.*\n",
        "* Garis lurus (warna merah) disebut sebagai *predicted value* dari Y untuk X.\n",
        "* Titik-titik yang berada di seputar garis lurus tersebut adalah *observed* value."
      ]
    },
    {
      "cell_type": "markdown",
      "metadata": {
        "id": "mAcm4ooWlVWU"
      },
      "source": [
        "# Implementasi Program dengan Python"
      ]
    },
    {
      "cell_type": "markdown",
      "metadata": {
        "id": "Uz9_pzxZlYjX"
      },
      "source": [
        "## Mempersiapkan Library\n",
        "Berikut Library yang akan digunakan:\n",
        "* NumPy, yaitu library yang akan digunakan untuk kebutuhan *scientific* dan matematika.\n",
        "* Pandas, yaitu library yang digunakan untuk manipulasi data seperti membuat tabel, mengubah dimensi data, mengecek data dan sebagainya.\n",
        "* Matplotlib, yaitu library yang digunakan untuk membuat grafik plot sesuai kebutuhan.\n",
        "* Sklearn, adala library untuk berbagai metode dan algoritma yang digunakan dalam *machine learning.*"
      ]
    },
    {
      "cell_type": "markdown",
      "metadata": {
        "id": "Aw4psq35l0cO"
      },
      "source": [
        "1. Import Library yang dibutuhkan"
      ]
    },
    {
      "cell_type": "code",
      "metadata": {
        "id": "fsOEolSncfYU"
      },
      "source": [
        "import numpy as np\n",
        "import pandas as pd\n",
        "import matplotlib.pyplot as plt\n",
        "import sklearn"
      ],
      "execution_count": 1,
      "outputs": []
    },
    {
      "cell_type": "markdown",
      "metadata": {
        "id": "0thPEqFkmZZl"
      },
      "source": [
        "2. Memanggil Dataset"
      ]
    },
    {
      "cell_type": "code",
      "metadata": {
        "colab": {
          "base_uri": "https://localhost:8080/"
        },
        "id": "ZjnRzEbJmfX1",
        "outputId": "9ddd68a9-8d80-4c15-80bf-547f259fe585"
      },
      "source": [
        "!wget -O datagaji1.csv https://raw.githubusercontent.com/riskydav/Belajar-Python/main/Data/datagaji1.csv\n"
      ],
      "execution_count": 2,
      "outputs": [
        {
          "output_type": "stream",
          "name": "stdout",
          "text": [
            "--2021-10-03 18:47:54--  https://raw.githubusercontent.com/riskydav/Belajar-Python/main/Data/datagaji1.csv\n",
            "Resolving raw.githubusercontent.com (raw.githubusercontent.com)... 185.199.111.133, 185.199.108.133, 185.199.110.133, ...\n",
            "Connecting to raw.githubusercontent.com (raw.githubusercontent.com)|185.199.111.133|:443... connected.\n",
            "HTTP request sent, awaiting response... 200 OK\n",
            "Length: 456 [text/plain]\n",
            "Saving to: ‘datagaji1.csv’\n",
            "\n",
            "datagaji1.csv       100%[===================>]     456  --.-KB/s    in 0s      \n",
            "\n",
            "2021-10-03 18:47:54 (18.9 MB/s) - ‘datagaji1.csv’ saved [456/456]\n",
            "\n"
          ]
        }
      ]
    },
    {
      "cell_type": "markdown",
      "metadata": {
        "id": "O3XKkQAVmgi3"
      },
      "source": [
        "## Melihat isi dataset.\n",
        "Pandas bisa digunakan untuk menampilkan sebagian isi dari dataset dengan menggunakan perintah sebagai berikut."
      ]
    },
    {
      "cell_type": "code",
      "metadata": {
        "colab": {
          "base_uri": "https://localhost:8080/",
          "height": 206
        },
        "id": "HhhQG6OikGlB",
        "outputId": "e5028423-9b5c-4d2e-d5a0-99a4b00483cc"
      },
      "source": [
        "data = pd.read_csv('datagaji1.csv', sep=',')\n",
        "data.head()"
      ],
      "execution_count": 3,
      "outputs": [
        {
          "output_type": "execute_result",
          "data": {
            "text/html": [
              "<div>\n",
              "<style scoped>\n",
              "    .dataframe tbody tr th:only-of-type {\n",
              "        vertical-align: middle;\n",
              "    }\n",
              "\n",
              "    .dataframe tbody tr th {\n",
              "        vertical-align: top;\n",
              "    }\n",
              "\n",
              "    .dataframe thead th {\n",
              "        text-align: right;\n",
              "    }\n",
              "</style>\n",
              "<table border=\"1\" class=\"dataframe\">\n",
              "  <thead>\n",
              "    <tr style=\"text-align: right;\">\n",
              "      <th></th>\n",
              "      <th>Tahun</th>\n",
              "      <th>Gaji</th>\n",
              "    </tr>\n",
              "  </thead>\n",
              "  <tbody>\n",
              "    <tr>\n",
              "      <th>0</th>\n",
              "      <td>5.1</td>\n",
              "      <td>66029</td>\n",
              "    </tr>\n",
              "    <tr>\n",
              "      <th>1</th>\n",
              "      <td>5.3</td>\n",
              "      <td>83088</td>\n",
              "    </tr>\n",
              "    <tr>\n",
              "      <th>2</th>\n",
              "      <td>5.9</td>\n",
              "      <td>81363</td>\n",
              "    </tr>\n",
              "    <tr>\n",
              "      <th>3</th>\n",
              "      <td>6.0</td>\n",
              "      <td>93940</td>\n",
              "    </tr>\n",
              "    <tr>\n",
              "      <th>4</th>\n",
              "      <td>6.8</td>\n",
              "      <td>91738</td>\n",
              "    </tr>\n",
              "  </tbody>\n",
              "</table>\n",
              "</div>"
            ],
            "text/plain": [
              "   Tahun   Gaji\n",
              "0    5.1  66029\n",
              "1    5.3  83088\n",
              "2    5.9  81363\n",
              "3    6.0  93940\n",
              "4    6.8  91738"
            ]
          },
          "metadata": {},
          "execution_count": 3
        }
      ]
    },
    {
      "cell_type": "markdown",
      "metadata": {
        "id": "8_RufdX6sXgn"
      },
      "source": [
        "Kode tersebut jika dieksekusi akan menghasilkan 3 variabel baru yang dapat diproses yaitu:\n",
        "* Variabel dataset: berisi keseluruhan data,\n",
        "* Variabel X: berisi data sebagai independent variable.\n",
        "* Variabel y: berisi data sebagai dependent variable.\n",
        "\n",
        "Jika ingin melihat variabel-variabel dalam dataset, bisa menggunakan perintah sebagai berikut:"
      ]
    },
    {
      "cell_type": "markdown",
      "metadata": {
        "id": "WNBdK61rskiU"
      },
      "source": [
        "Atau jika ingin melihat *shape* dari dataset bisa dilakukan perintah sebagai berikut."
      ]
    },
    {
      "cell_type": "code",
      "metadata": {
        "colab": {
          "base_uri": "https://localhost:8080/"
        },
        "id": "_i158vgjmsPT",
        "outputId": "f2a04976-d1c8-4a03-e93d-0da6e500f396"
      },
      "source": [
        "data.shape"
      ],
      "execution_count": 4,
      "outputs": [
        {
          "output_type": "execute_result",
          "data": {
            "text/plain": [
              "(40, 2)"
            ]
          },
          "metadata": {},
          "execution_count": 4
        }
      ]
    },
    {
      "cell_type": "code",
      "metadata": {
        "colab": {
          "base_uri": "https://localhost:8080/"
        },
        "id": "CmW4B5IFiBTS",
        "outputId": "588ddb7a-5bbe-46ca-e28b-b759dc0305e4"
      },
      "source": [
        "# Memilih variable X\n",
        "X = data.iloc[:,:-1].values\n",
        "X"
      ],
      "execution_count": 5,
      "outputs": [
        {
          "output_type": "execute_result",
          "data": {
            "text/plain": [
              "array([[ 5.1],\n",
              "       [ 5.3],\n",
              "       [ 5.9],\n",
              "       [ 6. ],\n",
              "       [ 6.8],\n",
              "       [ 7.1],\n",
              "       [ 4.1],\n",
              "       [ 4.5],\n",
              "       [ 4.9],\n",
              "       [ 3.7],\n",
              "       [ 3.9],\n",
              "       [ 4. ],\n",
              "       [ 4. ],\n",
              "       [ 1.1],\n",
              "       [ 1.3],\n",
              "       [ 1.5],\n",
              "       [ 2. ],\n",
              "       [ 2.2],\n",
              "       [ 2.9],\n",
              "       [ 3. ],\n",
              "       [ 3.2],\n",
              "       [ 3.2],\n",
              "       [ 9. ],\n",
              "       [ 9.5],\n",
              "       [ 9.6],\n",
              "       [10.3],\n",
              "       [10.5],\n",
              "       [ 7.9],\n",
              "       [ 8.2],\n",
              "       [ 8.7],\n",
              "       [ 1.5],\n",
              "       [ 1.7],\n",
              "       [ 1.9],\n",
              "       [ 2.4],\n",
              "       [ 2.6],\n",
              "       [ 3.3],\n",
              "       [10.1],\n",
              "       [10.3],\n",
              "       [ 8.1],\n",
              "       [ 8.3]])"
            ]
          },
          "metadata": {},
          "execution_count": 5
        }
      ]
    },
    {
      "cell_type": "code",
      "metadata": {
        "colab": {
          "base_uri": "https://localhost:8080/"
        },
        "id": "mFhll-YQiHaO",
        "outputId": "8f207263-d51c-47d0-dfaf-f618e7fa8d32"
      },
      "source": [
        "# Memilih Variable Y\n",
        "y = data.iloc[:,1].values\n",
        "y"
      ],
      "execution_count": 6,
      "outputs": [
        {
          "output_type": "execute_result",
          "data": {
            "text/plain": [
              "array([ 66029,  83088,  81363,  93940,  91738,  98273,  57081,  61111,\n",
              "        67938,  57189,  63218,  55794,  56957,  39343,  46205,  37731,\n",
              "        43525,  39891,  56642,  60150,  54445,  64445, 105582, 116969,\n",
              "       112635, 122391, 121872, 101302, 113812, 109431,  39593,  46455,\n",
              "        37981,  43775,  40141,  56892, 122000, 121000, 101000, 101800])"
            ]
          },
          "metadata": {},
          "execution_count": 6
        }
      ]
    },
    {
      "cell_type": "markdown",
      "metadata": {
        "id": "uYVKH_mhs22D"
      },
      "source": [
        "## Split Dataset\n",
        "Pada bagian ini digunakan untuk membagi dataset manjadi dua bagian yaitu Training Set dan Testing Set. Training Set akan digunakan sebagai data latih, yaitu menggunakan 80% dari data. Sementara Testing Set digunakan untuk data uji dan dalam kasus ini menggunakan 20% dari data."
      ]
    },
    {
      "cell_type": "code",
      "metadata": {
        "id": "2fznue4qiOtZ"
      },
      "source": [
        "# Split DataSet\n",
        "from sklearn.model_selection import train_test_split\n",
        "X_train, X_test, y_train, y_test = train_test_split(X, y, test_size = 0.1, random_state = 0)"
      ],
      "execution_count": 7,
      "outputs": []
    },
    {
      "cell_type": "code",
      "metadata": {
        "colab": {
          "base_uri": "https://localhost:8080/"
        },
        "id": "jY4znJyRiSmb",
        "outputId": "6b976611-85fd-49c9-cc03-a4d7581794ce"
      },
      "source": [
        "X_train"
      ],
      "execution_count": 8,
      "outputs": [
        {
          "output_type": "execute_result",
          "data": {
            "text/plain": [
              "array([[ 3.9],\n",
              "       [ 1.5],\n",
              "       [ 8.2],\n",
              "       [ 4. ],\n",
              "       [ 2.9],\n",
              "       [ 8.7],\n",
              "       [ 7.9],\n",
              "       [ 3.3],\n",
              "       [10.3],\n",
              "       [ 5.9],\n",
              "       [ 8.3],\n",
              "       [ 1.5],\n",
              "       [ 2.6],\n",
              "       [ 2. ],\n",
              "       [10.1],\n",
              "       [ 4.9],\n",
              "       [ 1.1],\n",
              "       [ 7.1],\n",
              "       [ 2.2],\n",
              "       [ 1.3],\n",
              "       [ 2.4],\n",
              "       [ 4.5],\n",
              "       [ 1.9],\n",
              "       [ 5.3],\n",
              "       [10.5],\n",
              "       [ 4. ],\n",
              "       [ 1.7],\n",
              "       [ 9.6],\n",
              "       [ 4.1],\n",
              "       [ 9.5],\n",
              "       [ 3.2],\n",
              "       [ 3. ],\n",
              "       [ 3.7],\n",
              "       [ 8.1],\n",
              "       [ 6. ],\n",
              "       [ 5.1]])"
            ]
          },
          "metadata": {},
          "execution_count": 8
        }
      ]
    },
    {
      "cell_type": "code",
      "metadata": {
        "colab": {
          "base_uri": "https://localhost:8080/"
        },
        "id": "mxfn-cLYiXYq",
        "outputId": "7b9ced4a-35b9-449a-e4ac-6fa5ae6f5dd6"
      },
      "source": [
        "X_test"
      ],
      "execution_count": 9,
      "outputs": [
        {
          "output_type": "execute_result",
          "data": {
            "text/plain": [
              "array([[ 9. ],\n",
              "       [ 3.2],\n",
              "       [10.3],\n",
              "       [ 6.8]])"
            ]
          },
          "metadata": {},
          "execution_count": 9
        }
      ]
    },
    {
      "cell_type": "markdown",
      "metadata": {
        "id": "zrzuFalLs_1Q"
      },
      "source": [
        "## Visualisasi Data\n",
        "Visualisasi data antara Nilai Gaji berdasarkan Lama Bekerja"
      ]
    },
    {
      "cell_type": "code",
      "metadata": {
        "colab": {
          "base_uri": "https://localhost:8080/",
          "height": 295
        },
        "id": "yjwozx-xiZbc",
        "outputId": "f85612e4-8dfc-4c96-ffa7-da9e700eb7f0"
      },
      "source": [
        "plt.scatter(data['Tahun'], data['Gaji'])\n",
        "plt.xlabel('Tahun')\n",
        "plt.ylabel('Gaji')\n",
        "plt.title('Grafik Nilai Gaji berdasarkan Lama Bekerja')\n",
        "plt.show()"
      ],
      "execution_count": 10,
      "outputs": [
        {
          "output_type": "display_data",
          "data": {
            "image/png": "[encoded data removed]",
            "text/plain": [
              "<Figure size 432x288 with 1 Axes>"
            ]
          },
          "metadata": {
            "needs_background": "light"
          }
        }
      ]
    },
    {
      "cell_type": "markdown",
      "metadata": {
        "id": "gFeuagvFtUug"
      },
      "source": [
        "## *Fitting* metode Simple Linear Regression\n",
        "Bagian ini digunakan untuk melakukan fitting metode Simple Linear Regression pada training set."
      ]
    },
    {
      "cell_type": "code",
      "metadata": {
        "colab": {
          "base_uri": "https://localhost:8080/"
        },
        "id": "be0bNW6Fi_tS",
        "outputId": "18d6e040-7a70-4bfc-de00-cec692c65114"
      },
      "source": [
        "from sklearn.linear_model import LinearRegression\n",
        "regressor = LinearRegression()\n",
        "regressor.fit(X_train, y_train)"
      ],
      "execution_count": 11,
      "outputs": [
        {
          "output_type": "execute_result",
          "data": {
            "text/plain": [
              "LinearRegression(copy_X=True, fit_intercept=True, n_jobs=None, normalize=False)"
            ]
          },
          "metadata": {},
          "execution_count": 11
        }
      ]
    },
    {
      "cell_type": "markdown",
      "metadata": {
        "id": "9Afk3SXMtbYI"
      },
      "source": [
        "Dengan demikian, *fitting* Simple Linear Regression pada training set (X_train dan y_train) sudah dilakukan dan machine learning dengan model *Simple Regresi Linear* sudah siap dijalankan dengan kondisi seperti di atas."
      ]
    },
    {
      "cell_type": "code",
      "metadata": {
        "colab": {
          "base_uri": "https://localhost:8080/"
        },
        "id": "fBLK9Md1jDwF",
        "outputId": "12a3ba16-afeb-46bc-c29e-5b4b74c3f4a2"
      },
      "source": [
        "regressor.score(X_train, y_train)"
      ],
      "execution_count": 12,
      "outputs": [
        {
          "output_type": "execute_result",
          "data": {
            "text/plain": [
              "0.963085677471505"
            ]
          },
          "metadata": {},
          "execution_count": 12
        }
      ]
    },
    {
      "cell_type": "markdown",
      "metadata": {
        "id": "5QTFmYUXtho0"
      },
      "source": [
        "## Melakukan prediksi untuk hasil Test set."
      ]
    },
    {
      "cell_type": "code",
      "metadata": {
        "id": "NhTpdIWPjJPK"
      },
      "source": [
        "y_pred = regressor.predict(X_test)"
      ],
      "execution_count": 13,
      "outputs": []
    },
    {
      "cell_type": "code",
      "metadata": {
        "colab": {
          "base_uri": "https://localhost:8080/"
        },
        "id": "gTvpcjPljL_M",
        "outputId": "1b1ca750-1ffb-4ba8-da2b-01929910a7f2"
      },
      "source": [
        "y_pred.round(2)"
      ],
      "execution_count": 14,
      "outputs": [
        {
          "output_type": "execute_result",
          "data": {
            "text/plain": [
              "array([110927.92,  55356.33, 123383.63,  89849.04])"
            ]
          },
          "metadata": {},
          "execution_count": 14
        }
      ]
    },
    {
      "cell_type": "code",
      "metadata": {
        "colab": {
          "base_uri": "https://localhost:8080/"
        },
        "id": "CEXsBNNejNZm",
        "outputId": "d9ed4f55-9046-4ba3-fa8b-9d923cf7ce92"
      },
      "source": [
        "y_test"
      ],
      "execution_count": 15,
      "outputs": [
        {
          "output_type": "execute_result",
          "data": {
            "text/plain": [
              "array([105582,  54445, 122391,  91738])"
            ]
          },
          "metadata": {},
          "execution_count": 15
        }
      ]
    },
    {
      "cell_type": "markdown",
      "metadata": {
        "id": "RFciFEVItqSb"
      },
      "source": [
        "Sampai pada tahap ini, machine learning sudah menghasilkan variabel y_test dan y_pred sebagai berikut.\n",
        "* Variabel y_test adalah data sesungguhnya (observasi) dari nilai penjualan\n",
        "* Variabel y_pred adalah data hasil prediksi dari nilai penjualan *machine learning.*"
      ]
    },
    {
      "cell_type": "markdown",
      "metadata": {
        "id": "EJy_ZBvotta_"
      },
      "source": [
        "## Visualisasi hasil *Machine Learning.*\n",
        "Visualisasi menggunakan grafik plot sehingga gambaran hasil dari model secara keseluruhan dapat kita lihat."
      ]
    },
    {
      "cell_type": "code",
      "metadata": {
        "colab": {
          "base_uri": "https://localhost:8080/",
          "height": 295
        },
        "id": "A_hxYLLCjP6d",
        "outputId": "20625a56-d30c-431f-c8b9-1e22b3055a2b"
      },
      "source": [
        "plt.scatter(X_test, y_test)\n",
        "plt.plot(X_test, y_pred, color = 'red')\n",
        "plt.xlabel('Tahun')\n",
        "plt.ylabel('Gaji')\n",
        "plt.title('Grafik Nilai Gaji berdasarkan Lama Bekerja (Predict)')\n",
        "plt.show()"
      ],
      "execution_count": 16,
      "outputs": [
        {
          "output_type": "display_data",
          "data": {
            "image/png": "[encoded data removed]",
            "text/plain": [
              "<Figure size 432x288 with 1 Axes>"
            ]
          },
          "metadata": {
            "needs_background": "light"
          }
        }
      ]
    },
    {
      "cell_type": "code",
      "metadata": {
        "colab": {
          "base_uri": "https://localhost:8080/",
          "height": 295
        },
        "id": "3aYGhhbkjlaG",
        "outputId": "4830d20d-ed5d-487e-b2e6-eacbb7d97dc3"
      },
      "source": [
        "plt.scatter(X_train, y_train)\n",
        "plt.plot(X_train, regressor.predict(X_train), color = 'red')\n",
        "plt.xlabel('Tahun')\n",
        "plt.ylabel('Gaji')\n",
        "plt.title('Grafik Nilai Gaji berdasarkan Lama Bekerja (Train)')\n",
        "plt.show()"
      ],
      "execution_count": 17,
      "outputs": [
        {
          "output_type": "display_data",
          "data": {
            "image/png": "[encoded data removed]",
            "text/plain": [
              "<Figure size 432x288 with 1 Axes>"
            ]
          },
          "metadata": {
            "needs_background": "light"
          }
        }
      ]
    }
  ]
}